{
  "cells": [
    {
      "cell_type": "markdown",
      "metadata": {
        "id": "o0ViGCeqM43C"
      },
      "source": [
        "# The simple model 12\n",
        "Доработанная сеть 2.0 от Megnet"
      ]
    },
    {
      "cell_type": "code",
      "execution_count": null,
      "metadata": {
        "id": "brxqXbwwINBJ"
      },
      "outputs": [],
      "source": [
        "import numpy as np\n",
        "import pandas as pd\n",
        "import os\n",
        "import matplotlib.pyplot as plt\n",
        "from sklearn import datasets\n",
        "from sklearn.ensemble import RandomForestRegressor\n",
        "from sklearn.model_selection import train_test_split\n",
        "from sklearn.linear_model import LinearRegression\n",
        "from sklearn.metrics import mean_squared_error, r2_score\n",
        "from sklearn.model_selection import GridSearchCV, cross_val_score\n",
        "from sklearn.ensemble import GradientBoostingClassifier\n",
        "from sklearn.pipeline import Pipeline\n",
        "\n",
        "!pip install matminer\n",
        "!pip install pymatgen\n",
        "!pip install maml\n",
        "!git clone https://github.com/bvd757/3DSC.git\n",
        "!pip install megnet\n",
        "\n",
        "from megnet.models import MEGNetModel\n",
        "from megnet.data.crystal import CrystalGraph\n",
        "\n",
        "from pymatgen.core.structure import Structure\n",
        "from maml.describers import BPSymmetryFunctions\n",
        "\n",
        "!pip install monty\n",
        "from monty.json import MontyDecoder\n",
        "from monty.serialization import loadfn\n",
        "\n",
        "from megnet.data.crystal import CrystalGraph\n",
        "from megnet.data.graph import GaussianDistance\n",
        "from megnet.models import MEGNetModel"
      ]
    },
    {
      "cell_type": "code",
      "execution_count": 14,
      "metadata": {
        "id": "_pGeC0hhJ7dp"
      },
      "outputs": [],
      "source": [
        "data = pd.read_csv('https://raw.githubusercontent.com/aimat-lab/3DSC/main/superconductors_3D/data/final/MP/3DSC_MP.csv', header = 1)\n",
        "data1 = data.loc[data['tc'] > 0.1]\n",
        "#data1 = data1.loc[data['tc'] < 30.0]\n",
        "data_t = np.log(data1[['tc']])\n",
        "data2 = data1[['formula_sc']]"
      ]
    },
    {
      "cell_type": "code",
      "execution_count": 15,
      "metadata": {
        "colab": {
          "base_uri": "https://localhost:8080/",
          "height": 81,
          "referenced_widgets": [
            "8a6d6675acbe439da3f7bb5ea35b1752",
            "75e0d1d2b0a149b091f72d710dd12e84",
            "3d8116b3388040d19e4a63989e28e098",
            "ba531968703e44d9b265ef0dc957f1bf",
            "20e5ec5999fa4dfa870ff5a7d9f66556",
            "b24589d1ca2f40b98de73b8ffcccb63e",
            "21618bb8490648b7b5612d1c936afffe",
            "23729826f5b648158244193db8d01dbb",
            "5b0032bf1f58483d81585cd3c830761b",
            "3b210665793642bd846f7dc6dde9287f",
            "e455f92109634671952196b0482e11e2",
            "0ddf2a1449224e8a8b6940be9277bfd7",
            "4a1b1a131f3c4d2b9496dec8aa9217f6",
            "bee10979b66648c68fdf9028662abd66",
            "6a363650bce7474da7fb3d561c3662d3",
            "9bd2c4a9b66a48eb801c7f421b723155",
            "b79e6a431960444d808659b1eb92cc09",
            "d74a80020c9040e993d1b91fb46a98d0",
            "d5db3706688b421aab8ed6f144746a19",
            "998cecda4294456d93f713393e90b0be",
            "9d7725dfaa8946ddb0f547502f6347e8",
            "9a3e801949774db3b174343f590de5f6"
          ]
        },
        "id": "9wkuFnjvVuDN",
        "outputId": "f972bf40-c859-4290-9cc0-f03813c70746"
      },
      "outputs": [
        {
          "output_type": "display_data",
          "data": {
            "text/plain": [
              "StrToComposition:   0%|          | 0/3950 [00:00<?, ?it/s]"
            ],
            "application/vnd.jupyter.widget-view+json": {
              "version_major": 2,
              "version_minor": 0,
              "model_id": "8a6d6675acbe439da3f7bb5ea35b1752"
            }
          },
          "metadata": {}
        },
        {
          "output_type": "display_data",
          "data": {
            "text/plain": [
              "ElementProperty:   0%|          | 0/3950 [00:00<?, ?it/s]"
            ],
            "application/vnd.jupyter.widget-view+json": {
              "version_major": 2,
              "version_minor": 0,
              "model_id": "0ddf2a1449224e8a8b6940be9277bfd7"
            }
          },
          "metadata": {}
        }
      ],
      "source": [
        "from matminer.featurizers.composition import ElementProperty\n",
        "from matminer.featurizers.conversions import StrToComposition\n",
        "ep_feat = ElementProperty.from_preset(preset_name=\"magpie\")\n",
        "d = {\"element\": np.array(data2)[:, 0]}\n",
        "df = pd.DataFrame(d)\n",
        "\n",
        "df = StrToComposition().featurize_dataframe(df, \"element\")\n",
        "df = ep_feat.featurize_dataframe(df, col_id = 'composition')"
      ]
    },
    {
      "cell_type": "code",
      "execution_count": null,
      "metadata": {
        "id": "IbojEv0ijn8j"
      },
      "outputs": [],
      "source": [
        "structures1 = [0] * len(df)\n",
        "targets1 = [0] * len(df)\n",
        "type_s = [0] * len(df)\n",
        "l = len(df)\n",
        "for i in enumerate(os.listdir(path=\"/content/3DSC/superconductors_3D/data/final/MP/cifs\")):\n",
        "    if i[0] % 100 == 0: print(i[0])\n",
        "    #print(\"\\n\\n\\n\\n\\n\\n\\n\\n\\n\\n\\n\\n\\n\\n\\n\\n\\n\", i[1], \"\\n\\n\\n\\n\\n\\n\\n\\n\\n\\n\\n\\n\\n\\n\\n\\n\\n\")\n",
        "    if i[1][:i[1].find('-MP')] not in df['element'].to_list(): continue\n",
        "    j = df.loc[df['element'] == i[1][:i[1].find('-MP')]].index\n",
        "    k = data1.loc[data1['formula_sc'] == i[1][:i[1].find('-MP')]].index\n",
        "    j = j[0]\n",
        "    k = k[0]\n",
        "    cif = Structure.from_file(\"/content/3DSC/superconductors_3D/data/final/MP/cifs/\" + i[1])\n",
        "    structures1[j] = cif\n",
        "    type_s[j] = data1['sc_class'].loc[k]\n",
        "    targets1[j] = data_t.loc[k]['tc']\n",
        "\n",
        "df1 = df[['MagpieData mean AtomicWeight', 'MagpieData mean MeltingT',\n",
        "'MagpieData mean Electronegativity', 'MagpieData mean NdValence', 'MagpieData mean GSvolume_pa', 'MagpieData mean SpaceGroupNumber', 'MagpieData mean NdUnfilled']]"
      ]
    },
    {
      "cell_type": "code",
      "execution_count": 17,
      "metadata": {
        "colab": {
          "base_uri": "https://localhost:8080/",
          "height": 643
        },
        "id": "D6R9kV9LxLB6",
        "outputId": "471fa14a-10aa-45d6-8dab-09bf9c804c22"
      },
      "outputs": [
        {
          "output_type": "stream",
          "name": "stderr",
          "text": [
            "<ipython-input-17-04c063078003>:2: SettingWithCopyWarning: \n",
            "A value is trying to be set on a copy of a slice from a DataFrame.\n",
            "Try using .loc[row_indexer,col_indexer] = value instead\n",
            "\n",
            "See the caveats in the documentation: https://pandas.pydata.org/pandas-docs/stable/user_guide/indexing.html#returning-a-view-versus-a-copy\n",
            "  df1['tc'] = np.array(targets1)\n",
            "<ipython-input-17-04c063078003>:3: SettingWithCopyWarning: \n",
            "A value is trying to be set on a copy of a slice from a DataFrame.\n",
            "Try using .loc[row_indexer,col_indexer] = value instead\n",
            "\n",
            "See the caveats in the documentation: https://pandas.pydata.org/pandas-docs/stable/user_guide/indexing.html#returning-a-view-versus-a-copy\n",
            "  df1['sc_class'] = type_s\n"
          ]
        },
        {
          "output_type": "execute_result",
          "data": {
            "text/plain": [
              "                 element        tc sc_class\n",
              "0     Ag0.02Ge2Pd1.98Sr1  0.970779    Other\n",
              "1        Ag0.15Sn0.85Te1  0.765468    Other\n",
              "2       Ag0.1Ge2Pd1.9Sr1  0.963174    Other\n",
              "3          Ag0.1In0.9Te1  0.182322    Other\n",
              "4          Ag0.2Ba1Si1.8  1.163151    Other\n",
              "...                  ...       ...      ...\n",
              "3945               W2Zr1  0.076961    Other\n",
              "3946                W3O1  0.515813    Oxide\n",
              "3947                 Zn1 -0.161578    Other\n",
              "3948              Zn2Zr1 -1.215146    Other\n",
              "3949                 Zr1 -0.003339    Other\n",
              "\n",
              "[3950 rows x 3 columns]"
            ],
            "text/html": [
              "\n",
              "  <div id=\"df-2822ca1a-3dac-4796-8216-876d053903cc\">\n",
              "    <div class=\"colab-df-container\">\n",
              "      <div>\n",
              "<style scoped>\n",
              "    .dataframe tbody tr th:only-of-type {\n",
              "        vertical-align: middle;\n",
              "    }\n",
              "\n",
              "    .dataframe tbody tr th {\n",
              "        vertical-align: top;\n",
              "    }\n",
              "\n",
              "    .dataframe thead th {\n",
              "        text-align: right;\n",
              "    }\n",
              "</style>\n",
              "<table border=\"1\" class=\"dataframe\">\n",
              "  <thead>\n",
              "    <tr style=\"text-align: right;\">\n",
              "      <th></th>\n",
              "      <th>element</th>\n",
              "      <th>tc</th>\n",
              "      <th>sc_class</th>\n",
              "    </tr>\n",
              "  </thead>\n",
              "  <tbody>\n",
              "    <tr>\n",
              "      <th>0</th>\n",
              "      <td>Ag0.02Ge2Pd1.98Sr1</td>\n",
              "      <td>0.970779</td>\n",
              "      <td>Other</td>\n",
              "    </tr>\n",
              "    <tr>\n",
              "      <th>1</th>\n",
              "      <td>Ag0.15Sn0.85Te1</td>\n",
              "      <td>0.765468</td>\n",
              "      <td>Other</td>\n",
              "    </tr>\n",
              "    <tr>\n",
              "      <th>2</th>\n",
              "      <td>Ag0.1Ge2Pd1.9Sr1</td>\n",
              "      <td>0.963174</td>\n",
              "      <td>Other</td>\n",
              "    </tr>\n",
              "    <tr>\n",
              "      <th>3</th>\n",
              "      <td>Ag0.1In0.9Te1</td>\n",
              "      <td>0.182322</td>\n",
              "      <td>Other</td>\n",
              "    </tr>\n",
              "    <tr>\n",
              "      <th>4</th>\n",
              "      <td>Ag0.2Ba1Si1.8</td>\n",
              "      <td>1.163151</td>\n",
              "      <td>Other</td>\n",
              "    </tr>\n",
              "    <tr>\n",
              "      <th>...</th>\n",
              "      <td>...</td>\n",
              "      <td>...</td>\n",
              "      <td>...</td>\n",
              "    </tr>\n",
              "    <tr>\n",
              "      <th>3945</th>\n",
              "      <td>W2Zr1</td>\n",
              "      <td>0.076961</td>\n",
              "      <td>Other</td>\n",
              "    </tr>\n",
              "    <tr>\n",
              "      <th>3946</th>\n",
              "      <td>W3O1</td>\n",
              "      <td>0.515813</td>\n",
              "      <td>Oxide</td>\n",
              "    </tr>\n",
              "    <tr>\n",
              "      <th>3947</th>\n",
              "      <td>Zn1</td>\n",
              "      <td>-0.161578</td>\n",
              "      <td>Other</td>\n",
              "    </tr>\n",
              "    <tr>\n",
              "      <th>3948</th>\n",
              "      <td>Zn2Zr1</td>\n",
              "      <td>-1.215146</td>\n",
              "      <td>Other</td>\n",
              "    </tr>\n",
              "    <tr>\n",
              "      <th>3949</th>\n",
              "      <td>Zr1</td>\n",
              "      <td>-0.003339</td>\n",
              "      <td>Other</td>\n",
              "    </tr>\n",
              "  </tbody>\n",
              "</table>\n",
              "<p>3950 rows × 3 columns</p>\n",
              "</div>\n",
              "      <button class=\"colab-df-convert\" onclick=\"convertToInteractive('df-2822ca1a-3dac-4796-8216-876d053903cc')\"\n",
              "              title=\"Convert this dataframe to an interactive table.\"\n",
              "              style=\"display:none;\">\n",
              "        \n",
              "  <svg xmlns=\"http://www.w3.org/2000/svg\" height=\"24px\"viewBox=\"0 0 24 24\"\n",
              "       width=\"24px\">\n",
              "    <path d=\"M0 0h24v24H0V0z\" fill=\"none\"/>\n",
              "    <path d=\"M18.56 5.44l.94 2.06.94-2.06 2.06-.94-2.06-.94-.94-2.06-.94 2.06-2.06.94zm-11 1L8.5 8.5l.94-2.06 2.06-.94-2.06-.94L8.5 2.5l-.94 2.06-2.06.94zm10 10l.94 2.06.94-2.06 2.06-.94-2.06-.94-.94-2.06-.94 2.06-2.06.94z\"/><path d=\"M17.41 7.96l-1.37-1.37c-.4-.4-.92-.59-1.43-.59-.52 0-1.04.2-1.43.59L10.3 9.45l-7.72 7.72c-.78.78-.78 2.05 0 2.83L4 21.41c.39.39.9.59 1.41.59.51 0 1.02-.2 1.41-.59l7.78-7.78 2.81-2.81c.8-.78.8-2.07 0-2.86zM5.41 20L4 18.59l7.72-7.72 1.47 1.35L5.41 20z\"/>\n",
              "  </svg>\n",
              "      </button>\n",
              "      \n",
              "  <style>\n",
              "    .colab-df-container {\n",
              "      display:flex;\n",
              "      flex-wrap:wrap;\n",
              "      gap: 12px;\n",
              "    }\n",
              "\n",
              "    .colab-df-convert {\n",
              "      background-color: #E8F0FE;\n",
              "      border: none;\n",
              "      border-radius: 50%;\n",
              "      cursor: pointer;\n",
              "      display: none;\n",
              "      fill: #1967D2;\n",
              "      height: 32px;\n",
              "      padding: 0 0 0 0;\n",
              "      width: 32px;\n",
              "    }\n",
              "\n",
              "    .colab-df-convert:hover {\n",
              "      background-color: #E2EBFA;\n",
              "      box-shadow: 0px 1px 2px rgba(60, 64, 67, 0.3), 0px 1px 3px 1px rgba(60, 64, 67, 0.15);\n",
              "      fill: #174EA6;\n",
              "    }\n",
              "\n",
              "    [theme=dark] .colab-df-convert {\n",
              "      background-color: #3B4455;\n",
              "      fill: #D2E3FC;\n",
              "    }\n",
              "\n",
              "    [theme=dark] .colab-df-convert:hover {\n",
              "      background-color: #434B5C;\n",
              "      box-shadow: 0px 1px 3px 1px rgba(0, 0, 0, 0.15);\n",
              "      filter: drop-shadow(0px 1px 2px rgba(0, 0, 0, 0.3));\n",
              "      fill: #FFFFFF;\n",
              "    }\n",
              "  </style>\n",
              "\n",
              "      <script>\n",
              "        const buttonEl =\n",
              "          document.querySelector('#df-2822ca1a-3dac-4796-8216-876d053903cc button.colab-df-convert');\n",
              "        buttonEl.style.display =\n",
              "          google.colab.kernel.accessAllowed ? 'block' : 'none';\n",
              "\n",
              "        async function convertToInteractive(key) {\n",
              "          const element = document.querySelector('#df-2822ca1a-3dac-4796-8216-876d053903cc');\n",
              "          const dataTable =\n",
              "            await google.colab.kernel.invokeFunction('convertToInteractive',\n",
              "                                                     [key], {});\n",
              "          if (!dataTable) return;\n",
              "\n",
              "          const docLinkHtml = 'Like what you see? Visit the ' +\n",
              "            '<a target=\"_blank\" href=https://colab.research.google.com/notebooks/data_table.ipynb>data table notebook</a>'\n",
              "            + ' to learn more about interactive tables.';\n",
              "          element.innerHTML = '';\n",
              "          dataTable['output_type'] = 'display_data';\n",
              "          await google.colab.output.renderOutput(dataTable, element);\n",
              "          const docLink = document.createElement('div');\n",
              "          docLink.innerHTML = docLinkHtml;\n",
              "          element.appendChild(docLink);\n",
              "        }\n",
              "      </script>\n",
              "    </div>\n",
              "  </div>\n",
              "  "
            ]
          },
          "metadata": {},
          "execution_count": 17
        }
      ],
      "source": [
        "df1 = df[['element']]\n",
        "df1['tc'] = np.array(targets1)\n",
        "df1['sc_class'] = type_s\n",
        "df1"
      ]
    },
    {
      "cell_type": "code",
      "execution_count": 18,
      "metadata": {
        "colab": {
          "base_uri": "https://localhost:8080/"
        },
        "id": "UL3HvBRf7oJV",
        "outputId": "97340983-7443-44c5-8cff-620a59ec8712"
      },
      "outputs": [
        {
          "output_type": "stream",
          "name": "stdout",
          "text": [
            "['Eform_MP_2019', 'Eform_MP_2018', 'Efermi_MP_2019', 'Bandgap_classifier_MP_2018', 'Bandgap_MP_2018', 'logK_MP_2018', 'logG_MP_2018', 'logK_MP_2019', 'logG_MP_2019']\n"
          ]
        }
      ],
      "source": [
        "from megnet.utils.models import load_model, AVAILABLE_MODELS\n",
        "from pymatgen.core import Structure, Lattice\n",
        "from pymatgen.ext.matproj import MPRester\n",
        "print(AVAILABLE_MODELS)"
      ]
    },
    {
      "cell_type": "code",
      "execution_count": null,
      "metadata": {
        "id": "wJSboDMYWlpS"
      },
      "outputs": [],
      "source": [
        "model = load_model('Efermi_MP_2019')\n",
        "model.compile(loss='mse')"
      ]
    },
    {
      "cell_type": "code",
      "execution_count": 20,
      "metadata": {
        "id": "nqwORKtL-bf6"
      },
      "outputs": [],
      "source": [
        "structure_for_test = Structure.from_file(\"/content/3DSC/superconductors_3D/data/final/MP/cifs/\" + 'Ag0.55Hg0.45-MP-mp-770433.cif')\n",
        "A = []\n",
        "B = []\n",
        "for i in range(len(structures1)):\n",
        "    if i % 100 == 0:\n",
        "        print(i, len(B) / (i + 1))\n",
        "        \n",
        "    if structures1[i] == 0:\n",
        "        B.append(i)\n",
        "        continue\n",
        "\n",
        "    try:\n",
        "        model.train([structure_for_test, structures1[i]], [1, 1], epochs=1,  verbose = 0);\n",
        "        A.append(i)\n",
        "    except:\n",
        "        B.append(i)\n",
        "\n",
        "B = sorted(B, reverse = True)"
      ]
    },
    {
      "cell_type": "code",
      "execution_count": 21,
      "metadata": {
        "id": "zShPku_2_n4a"
      },
      "outputs": [],
      "source": [
        "structures2 = structures1.copy()\n",
        "targets2 = targets1.copy()\n",
        "df2 = df1.copy()\n",
        "df2.index = np.arange(len(df2))\n",
        "df2.drop(labels=B, axis=0, inplace=True)\n",
        "\n",
        "for i in B:\n",
        "    structures2.pop(i)\n",
        "    targets2.pop(i)"
      ]
    },
    {
      "cell_type": "code",
      "execution_count": 24,
      "metadata": {
        "id": "ESwAno4htkH5"
      },
      "outputs": [],
      "source": [
        "df3 = df2.copy()\n",
        "df3.index = np.arange(len(df3))\n",
        "D = df3[df3['sc_class'] != 'Other'].index\n",
        "df_Other = df3[df3['sc_class'] == 'Other']\n",
        "D = sorted(D, reverse = True)\n",
        "for i in D:\n",
        "    structures2.pop(i)\n",
        "    targets2.pop(i)"
      ]
    },
    {
      "cell_type": "code",
      "execution_count": null,
      "metadata": {
        "colab": {
          "base_uri": "https://localhost:8080/"
        },
        "id": "dLUGof6o7qXO",
        "outputId": "433f4c3a-13cb-47d8-f381-6692e6ed3263"
      },
      "outputs": [
        {
          "name": "stderr",
          "output_type": "stream",
          "text": [
            "/usr/local/lib/python3.9/dist-packages/keras/initializers/initializers.py:120: UserWarning: The initializer VarianceScaling is unseeded and being called multiple times, which will return identical values each time (even if the initializer is unseeded). Please update your code to provide a seed to the initializer, or avoid using the same initalizer instance more than once.\n",
            "  warnings.warn(\n"
          ]
        },
        {
          "name": "stdout",
          "output_type": "stream",
          "text": [
            "Eform_MP_2019 [2.1474087238311768, 0.9767575263977051, 0.5070415735244751, 0.34987443685531616, 0.17392779886722565]\n",
            "\n",
            "Eform_MP_2018 [1.8736951351165771, 0.9781746864318848, 0.5319128036499023, 0.30567044019699097, 0.16810809075832367]\n",
            "\n",
            "Efermi_MP_2019 [2.1950862407684326, 0.5225740075111389, 0.2375660240650177, 0.14253461360931396, 0.11114346981048584]\n",
            "\n",
            "Bandgap_classifier_MP_2018 [1.5310440063476562, 1.1769440174102783, 1.027512550354004, 1.0540869235992432, 0.9073073267936707]\n",
            "\n",
            "Bandgap_MP_2018 [2.0343403816223145, 1.0453341007232666, 0.6563485860824585, 0.4554230272769928, 0.3879273533821106]\n",
            "\n",
            "logK_MP_2018 [2.614320993423462, 2.0634939670562744, 1.8494062423706055, 1.7305173873901367, 1.5817363262176514]\n",
            "\n",
            "logG_MP_2018 [2.228929042816162, 1.6805260181427002, 1.3666150569915771, 1.2271977663040161, 1.0542421340942383]\n",
            "\n",
            "logK_MP_2019 [6.744297981262207, 5.976956844329834, 5.531365394592285, 5.243750095367432, 5.037966728210449]\n",
            "\n",
            "logG_MP_2019 [7.599518775939941, 6.987666130065918, 6.683629512786865, 6.463111877441406, 6.225871562957764]\n",
            "\n"
          ]
        }
      ],
      "source": [
        "X_train, y_train = structures2[:50], targets2[:50]\n",
        "losses = [0] * len(AVAILABLE_MODELS)\n",
        "for i, model_name in enumerate(AVAILABLE_MODELS):\n",
        "    model = load_model(model_name)\n",
        "    model.compile(loss='mse')\n",
        "    history = model.train(X_train, y_train, epochs = 5, batch_size = 10, verbose = 0, save_checkpoint = True)\n",
        "    losses[i] = history.history.history['loss'][-1]\n",
        "    print(model_name, history.history.history['loss'])\n",
        "    print()"
      ]
    },
    {
      "cell_type": "code",
      "execution_count": null,
      "metadata": {
        "id": "z5HI-vHMKcqg"
      },
      "outputs": [],
      "source": [
        "X_train, y_train = structures2[:800], targets2[:800] \n",
        "X_validation, y_validation = structures2[800:1000], targets2[800:1000]\n",
        "history = model.train(train_structures=X_train, train_targets=y_train, validation_structures=X_validation, \n",
        "                      validation_targets=y_validation, epochs = 100, batch_size = 10, verbose = 1)\n",
        "history.history.history['loss']"
      ]
    },
    {
      "cell_type": "code",
      "execution_count": null,
      "metadata": {
        "id": "XNIjMAck2_AR"
      },
      "outputs": [],
      "source": [
        "epochs = 1000\n",
        "train_loss = [0] * epochs\n",
        "validation_loss = [0] * epochs\n",
        "X_train, y_train = structures2[:1000], targets2[:1000]\n",
        "X_validation, y_validation = structures2[1000:], targets2[1000:]\n",
        "model = load_model('Bandgap_MP_2018')\n",
        "model.compile(loss='mse')\n",
        "t = model.copy()\n",
        "history = model.train(train_structures=X_train[:10], train_targets=y_train[:10], epochs = 1, batch_size = 1, verbose = 0)\n",
        "b = model.get_weights()"
      ]
    },
    {
      "cell_type": "code",
      "execution_count": null,
      "metadata": {
        "id": "HiqKqxhDcw44"
      },
      "outputs": [],
      "source": [
        "for epoch in range(epochs):\n",
        "    print(\"epoch =\", epoch + 1)\n",
        "    print('train')\n",
        "    if epoch != 0: model.set_weights(weights)\n",
        "    history = model.train(train_structures=X_train, train_targets=y_train, epochs = 1, batch_size = 100, verbose = 1)\n",
        "    train_loss[epoch] = history.history.history['loss'][-1]\n",
        "\n",
        "    print()\n",
        "    print('validation')\n",
        "    weights = model.get_weights()\n",
        "    weights_massive.append(weights)\n",
        "    history = model.train(train_structures=X_validation, train_targets=y_validation, epochs = 1, batch_size = 100, verbose = 1)\n",
        "    validation_loss[epoch] = history.history.history['loss'][-1]\n",
        "    print(\"\\n\\n\")"
      ]
    },
    {
      "cell_type": "code",
      "execution_count": null,
      "metadata": {
        "id": "Ar_6nX1JGiO1"
      },
      "outputs": [],
      "source": [
        "import keras\n",
        "class LossHistory(keras.callbacks.Callback):\n",
        "    def on_train_begin(self, logs={}):\n",
        "        self.history = {'loss':[],'val_loss':[]}\n",
        "\n",
        "    def on_batch_end(self, batch, logs={}):\n",
        "        self.history['loss'].append(logs.get('loss'))\n",
        "\n",
        "    def on_epoch_end(self, epoch, logs={}):\n",
        "        self.history['val_loss'].append(logs.get('val_loss'))\n",
        "\n",
        "history = LossHistory()\n",
        "\n",
        "X_train, y_train = structures2[:10], targets2[:10]\n",
        "X_validation, y_validation = structures2[10:12], targets2[10:12]\n",
        "model = load_model('Bandgap_MP_2018')\n",
        "model.compile(loss='mse', metrics=['val_loss'])\n",
        "model.train(train_structures = X_train, train_targets = y_train, \n",
        "                      validation_structures = X_validation, validation_targets = y_validation, epochs = 1, batch_size = 1, verbose = 1, validation_freq=1, callbacks=[history])"
      ]
    },
    {
      "cell_type": "code",
      "execution_count": null,
      "metadata": {
        "colab": {
          "base_uri": "https://localhost:8080/"
        },
        "id": "XBb80UQ1MBBR",
        "outputId": "54dfed75-94a7-4b31-92e6-6fedb863b38a"
      },
      "outputs": [
        {
          "data": {
            "text/plain": [
              "[None, None, None, None, None, None, None, None, None, None]"
            ]
          },
          "execution_count": 133,
          "metadata": {},
          "output_type": "execute_result"
        }
      ],
      "source": [
        "history.val_losses"
      ]
    },
    {
      "cell_type": "code",
      "execution_count": null,
      "metadata": {
        "colab": {
          "base_uri": "https://localhost:8080/",
          "height": 471
        },
        "id": "xzYBVsv7eugb",
        "outputId": "a2ebb0f0-e3a4-4d60-a6b2-697f0e1b1423"
      },
      "outputs": [
        {
          "data": {
            "image/png": "[encoded data removed]",
            "text/plain": [
              "<Figure size 640x480 with 1 Axes>"
            ]
          },
          "metadata": {},
          "output_type": "display_data"
        }
      ],
      "source": [
        "fig, ax = plt.subplots()\n",
        "ax.grid()\n",
        "plt.grid()\n",
        "plt.plot(np.arange(epochs), train_loss, color = 'blue', label = \"Train_loss\")\n",
        "plt.plot(np.arange(epochs), validation_loss, color = 'orange', label = \"Validation_loss\")\n",
        "plt.xlabel('epochs')\n",
        "plt.ylabel('loss')\n",
        "plt.title(\"Learning curve\")\n",
        "#plt.ylim((0, 4))\n",
        "plt.legend()\n",
        "plt.show()"
      ]
    },
    {
      "cell_type": "code",
      "execution_count": null,
      "metadata": {
        "id": "x5Wbqwb_N-O8",
        "colab": {
          "base_uri": "https://localhost:8080/"
        },
        "outputId": "fd637bbc-b4dd-4c65-ee36-55e8fccacc2c"
      },
      "outputs": [
        {
          "output_type": "stream",
          "name": "stderr",
          "text": [
            "/usr/local/lib/python3.9/dist-packages/keras/initializers/initializers.py:120: UserWarning: The initializer VarianceScaling is unseeded and being called multiple times, which will return identical values each time (even if the initializer is unseeded). Please update your code to provide a seed to the initializer, or avoid using the same initalizer instance more than once.\n",
            "  warnings.warn(\n",
            "WARNING:megnet.data.graph:Isolated atoms found in the structure. The cutoff radius might be small\n"
          ]
        },
        {
          "output_type": "stream",
          "name": "stdout",
          "text": [
            "Epoch 1/300\n",
            "85/85 [==============================] - 35s 143ms/step - loss: 0.3007\n",
            "Epoch 2/300\n",
            "85/85 [==============================] - 12s 143ms/step - loss: 0.1206\n",
            "Epoch 3/300\n",
            "85/85 [==============================] - 11s 134ms/step - loss: 0.1003\n",
            "Epoch 4/300\n",
            "85/85 [==============================] - 12s 139ms/step - loss: 0.0994\n",
            "Epoch 5/300\n",
            "85/85 [==============================] - 11s 129ms/step - loss: 0.0804\n",
            "Epoch 6/300\n",
            "85/85 [==============================] - 12s 144ms/step - loss: 0.0777\n",
            "Epoch 7/300\n",
            "85/85 [==============================] - 12s 141ms/step - loss: 0.0658\n",
            "Epoch 8/300\n",
            "85/85 [==============================] - 12s 138ms/step - loss: 0.0652\n",
            "Epoch 9/300\n",
            "85/85 [==============================] - 12s 138ms/step - loss: 0.0607\n",
            "Epoch 10/300\n",
            "85/85 [==============================] - 12s 138ms/step - loss: 0.0545\n",
            "Epoch 11/300\n",
            "85/85 [==============================] - 10s 119ms/step - loss: 0.0491\n",
            "Epoch 12/300\n",
            "85/85 [==============================] - 12s 138ms/step - loss: 0.0533\n",
            "Epoch 13/300\n",
            "85/85 [==============================] - 10s 116ms/step - loss: 0.0429\n",
            "Epoch 14/300\n",
            "85/85 [==============================] - 11s 133ms/step - loss: 0.0457\n",
            "Epoch 15/300\n",
            "85/85 [==============================] - 12s 138ms/step - loss: 0.0377\n",
            "Epoch 16/300\n",
            "85/85 [==============================] - 12s 138ms/step - loss: 0.0364\n",
            "Epoch 17/300\n",
            "85/85 [==============================] - 11s 123ms/step - loss: 0.0337\n",
            "Epoch 18/300\n",
            "85/85 [==============================] - 12s 137ms/step - loss: 0.0368\n",
            "Epoch 19/300\n",
            "85/85 [==============================] - 12s 137ms/step - loss: 0.0286\n",
            "Epoch 20/300\n",
            "85/85 [==============================] - 12s 136ms/step - loss: 0.0350\n",
            "Epoch 21/300\n",
            "85/85 [==============================] - 10s 116ms/step - loss: 0.0281\n",
            "Epoch 22/300\n",
            "85/85 [==============================] - 12s 137ms/step - loss: 0.0311\n",
            "Epoch 23/300\n",
            "85/85 [==============================] - 12s 141ms/step - loss: 0.0286\n",
            "Epoch 24/300\n",
            "85/85 [==============================] - 12s 137ms/step - loss: 0.0265\n",
            "Epoch 25/300\n",
            "85/85 [==============================] - 11s 135ms/step - loss: 0.0229\n",
            "Epoch 26/300\n",
            "85/85 [==============================] - 11s 133ms/step - loss: 0.0251\n",
            "Epoch 27/300\n",
            "85/85 [==============================] - 10s 117ms/step - loss: 0.0232\n",
            "Epoch 28/300\n",
            "85/85 [==============================] - 12s 135ms/step - loss: 0.0208\n",
            "Epoch 29/300\n",
            "85/85 [==============================] - 11s 130ms/step - loss: 0.0253\n",
            "Epoch 30/300\n",
            "85/85 [==============================] - 10s 116ms/step - loss: 0.0213\n",
            "Epoch 31/300\n",
            "85/85 [==============================] - 11s 135ms/step - loss: 0.0219\n",
            "Epoch 32/300\n",
            "85/85 [==============================] - 12s 135ms/step - loss: 0.0197\n",
            "Epoch 33/300\n",
            "85/85 [==============================] - 10s 119ms/step - loss: 0.0446\n",
            "Epoch 34/300\n",
            "85/85 [==============================] - 12s 136ms/step - loss: 0.0172\n",
            "Epoch 35/300\n",
            "85/85 [==============================] - 11s 130ms/step - loss: 0.0186\n",
            "Epoch 36/300\n",
            "85/85 [==============================] - 12s 136ms/step - loss: 0.0175\n",
            "Epoch 37/300\n",
            "85/85 [==============================] - 11s 125ms/step - loss: 0.0165\n",
            "Epoch 38/300\n",
            "85/85 [==============================] - 11s 124ms/step - loss: 0.0181\n",
            "Epoch 39/300\n",
            "85/85 [==============================] - 12s 137ms/step - loss: 0.0157\n",
            "Epoch 40/300\n",
            "85/85 [==============================] - 11s 131ms/step - loss: 0.0173\n",
            "Epoch 41/300\n",
            "85/85 [==============================] - 12s 135ms/step - loss: 0.0167\n",
            "Epoch 42/300\n",
            "85/85 [==============================] - 14s 163ms/step - loss: 0.0170\n",
            "Epoch 43/300\n",
            "85/85 [==============================] - 12s 138ms/step - loss: 0.0150\n",
            "Epoch 44/300\n",
            "85/85 [==============================] - 12s 137ms/step - loss: 0.0130\n",
            "Epoch 45/300\n",
            "85/85 [==============================] - 11s 128ms/step - loss: 0.0145\n",
            "Epoch 46/300\n",
            "85/85 [==============================] - 12s 137ms/step - loss: 0.0123\n",
            "Epoch 47/300\n",
            "85/85 [==============================] - 14s 160ms/step - loss: 0.0123\n",
            "Epoch 48/300\n",
            "85/85 [==============================] - 12s 137ms/step - loss: 0.0141\n",
            "Epoch 49/300\n",
            "85/85 [==============================] - 12s 136ms/step - loss: 0.0137\n",
            "Epoch 50/300\n",
            "85/85 [==============================] - 12s 138ms/step - loss: 0.0131\n",
            "Epoch 51/300\n",
            "85/85 [==============================] - 12s 135ms/step - loss: 0.0120\n",
            "Epoch 52/300\n",
            "85/85 [==============================] - 12s 137ms/step - loss: 0.0117\n",
            "Epoch 53/300\n",
            "85/85 [==============================] - 12s 137ms/step - loss: 0.0116\n",
            "Epoch 54/300\n",
            "85/85 [==============================] - 10s 122ms/step - loss: 0.0113\n",
            "Epoch 55/300\n",
            "85/85 [==============================] - 12s 137ms/step - loss: 0.0098\n",
            "Epoch 56/300\n",
            "85/85 [==============================] - 11s 123ms/step - loss: 0.0098\n",
            "Epoch 57/300\n",
            "85/85 [==============================] - 13s 151ms/step - loss: 0.0096\n",
            "Epoch 58/300\n",
            "85/85 [==============================] - 11s 128ms/step - loss: 0.0101\n",
            "Epoch 59/300\n",
            "85/85 [==============================] - 10s 123ms/step - loss: 0.0109\n",
            "Epoch 60/300\n",
            "85/85 [==============================] - 12s 137ms/step - loss: 0.0106\n",
            "Epoch 61/300\n",
            "85/85 [==============================] - 11s 128ms/step - loss: 0.0110\n",
            "Epoch 62/300\n",
            "85/85 [==============================] - 12s 135ms/step - loss: 0.0100\n",
            "Epoch 63/300\n",
            "85/85 [==============================] - 12s 136ms/step - loss: 0.0086\n",
            "Epoch 64/300\n",
            "85/85 [==============================] - 11s 131ms/step - loss: 0.0093\n",
            "Epoch 65/300\n",
            "85/85 [==============================] - 11s 126ms/step - loss: 0.0094\n",
            "Epoch 66/300\n",
            "85/85 [==============================] - 12s 134ms/step - loss: 0.0082\n",
            "Epoch 67/300\n",
            "85/85 [==============================] - 12s 136ms/step - loss: 0.0105\n",
            "Epoch 68/300\n",
            "85/85 [==============================] - 10s 114ms/step - loss: 0.0075\n",
            "Epoch 69/300\n",
            "85/85 [==============================] - 11s 134ms/step - loss: 0.0079\n",
            "Epoch 70/300\n",
            "85/85 [==============================] - 11s 130ms/step - loss: 0.0076\n",
            "Epoch 71/300\n",
            "85/85 [==============================] - 12s 138ms/step - loss: 0.0079\n",
            "Epoch 72/300\n",
            "85/85 [==============================] - 11s 128ms/step - loss: 0.0075\n",
            "Epoch 73/300\n",
            "85/85 [==============================] - 12s 135ms/step - loss: 0.0080\n",
            "Epoch 74/300\n",
            "85/85 [==============================] - 12s 136ms/step - loss: 0.0072\n",
            "Epoch 75/300\n",
            "85/85 [==============================] - 11s 132ms/step - loss: 0.0077\n",
            "Epoch 76/300\n",
            "85/85 [==============================] - 10s 116ms/step - loss: 0.0072\n",
            "Epoch 77/300\n",
            "85/85 [==============================] - 12s 136ms/step - loss: 0.0071\n",
            "Epoch 78/300\n",
            "85/85 [==============================] - 12s 136ms/step - loss: 0.0086\n",
            "Epoch 79/300\n",
            "85/85 [==============================] - 12s 136ms/step - loss: 0.0067\n",
            "Epoch 80/300\n",
            "85/85 [==============================] - 10s 115ms/step - loss: 0.0069\n",
            "Epoch 81/300\n",
            "85/85 [==============================] - 12s 133ms/step - loss: 0.0070\n",
            "Epoch 82/300\n",
            "85/85 [==============================] - 12s 137ms/step - loss: 0.0076\n",
            "Epoch 83/300\n",
            "85/85 [==============================] - 12s 135ms/step - loss: 0.0060\n",
            "Epoch 84/300\n",
            "85/85 [==============================] - 11s 128ms/step - loss: 0.0059\n",
            "Epoch 85/300\n",
            "85/85 [==============================] - 12s 136ms/step - loss: 0.0071\n",
            "Epoch 86/300\n",
            "85/85 [==============================] - 12s 137ms/step - loss: 0.0082\n",
            "Epoch 87/300\n",
            "85/85 [==============================] - 11s 124ms/step - loss: 0.0067\n",
            "Epoch 88/300\n",
            "85/85 [==============================] - 12s 136ms/step - loss: 0.0056\n",
            "Epoch 89/300\n",
            "85/85 [==============================] - 11s 126ms/step - loss: 0.0065\n",
            "Epoch 90/300\n",
            "85/85 [==============================] - 12s 135ms/step - loss: 0.0051\n",
            "Epoch 91/300\n",
            "85/85 [==============================] - 12s 136ms/step - loss: 0.0064\n",
            "Epoch 92/300\n",
            "85/85 [==============================] - 11s 126ms/step - loss: 0.0067\n",
            "Epoch 93/300\n",
            "85/85 [==============================] - 12s 136ms/step - loss: 0.0053\n",
            "Epoch 94/300\n",
            "85/85 [==============================] - 11s 127ms/step - loss: 0.0051\n",
            "Epoch 95/300\n",
            "85/85 [==============================] - 12s 137ms/step - loss: 0.0064\n",
            "Epoch 96/300\n",
            "85/85 [==============================] - 12s 137ms/step - loss: 0.0069\n",
            "Epoch 97/300\n",
            "85/85 [==============================] - 11s 124ms/step - loss: 0.0054\n",
            "Epoch 98/300\n",
            "85/85 [==============================] - 12s 136ms/step - loss: 0.0048\n",
            "Epoch 99/300\n",
            "85/85 [==============================] - 11s 129ms/step - loss: 0.0052\n",
            "Epoch 100/300\n",
            "85/85 [==============================] - 12s 136ms/step - loss: 0.0059\n",
            "Epoch 101/300\n",
            "85/85 [==============================] - 12s 137ms/step - loss: 0.0055\n",
            "Epoch 102/300\n",
            "85/85 [==============================] - 11s 125ms/step - loss: 0.0048\n",
            "Epoch 103/300\n",
            "85/85 [==============================] - 12s 137ms/step - loss: 0.0062\n",
            "Epoch 104/300\n",
            "85/85 [==============================] - 12s 136ms/step - loss: 0.0052\n",
            "Epoch 105/300\n",
            "85/85 [==============================] - 10s 121ms/step - loss: 0.0047\n",
            "Epoch 106/300\n",
            "85/85 [==============================] - 12s 135ms/step - loss: 0.0052\n",
            "Epoch 107/300\n",
            "85/85 [==============================] - 10s 116ms/step - loss: 0.0050\n",
            "Epoch 108/300\n",
            "85/85 [==============================] - 12s 135ms/step - loss: 0.0048\n",
            "Epoch 109/300\n",
            "85/85 [==============================] - 11s 134ms/step - loss: 0.0049\n",
            "Epoch 110/300\n",
            "85/85 [==============================] - 10s 118ms/step - loss: 0.0047\n",
            "Epoch 111/300\n",
            "85/85 [==============================] - 12s 137ms/step - loss: 0.0044\n",
            "Epoch 112/300\n",
            "85/85 [==============================] - 12s 135ms/step - loss: 0.0042\n",
            "Epoch 113/300\n",
            "85/85 [==============================] - 10s 118ms/step - loss: 0.0050\n",
            "Epoch 114/300\n",
            "85/85 [==============================] - 12s 136ms/step - loss: 0.0052\n",
            "Epoch 115/300\n",
            "85/85 [==============================] - 12s 137ms/step - loss: 0.0038\n",
            "Epoch 116/300\n",
            "85/85 [==============================] - 10s 117ms/step - loss: 0.0049\n",
            "Epoch 117/300\n",
            "85/85 [==============================] - 11s 135ms/step - loss: 0.0052\n",
            "Epoch 118/300\n",
            "85/85 [==============================] - 11s 135ms/step - loss: 0.0047\n",
            "Epoch 119/300\n",
            "85/85 [==============================] - 10s 114ms/step - loss: 0.0043\n",
            "Epoch 120/300\n",
            "85/85 [==============================] - 12s 137ms/step - loss: 0.0049\n",
            "Epoch 121/300\n",
            "85/85 [==============================] - 11s 135ms/step - loss: 0.0042\n",
            "Epoch 122/300\n",
            "85/85 [==============================] - 12s 137ms/step - loss: 0.0043\n",
            "Epoch 123/300\n",
            "85/85 [==============================] - 12s 137ms/step - loss: 0.0048\n",
            "Epoch 124/300\n",
            "85/85 [==============================] - 12s 136ms/step - loss: 0.0041\n",
            "Epoch 125/300\n",
            "85/85 [==============================] - 11s 133ms/step - loss: 0.0036\n",
            "Epoch 126/300\n",
            "85/85 [==============================] - 12s 136ms/step - loss: 0.0042\n",
            "Epoch 127/300\n",
            "85/85 [==============================] - 11s 135ms/step - loss: 0.0035\n",
            "Epoch 128/300\n",
            "85/85 [==============================] - 12s 136ms/step - loss: 0.0038\n",
            "Epoch 129/300\n",
            "85/85 [==============================] - 17s 196ms/step - loss: 0.0038\n",
            "Epoch 130/300\n",
            "24/85 [=======>......................] - ETA: 13s - loss: 0.0046"
          ]
        }
      ],
      "source": [
        "X_train, y_train = structures2[:850], targets2[:850]\n",
        "X_test, y_test = structures2[850:], targets2[850:]\n",
        "model = load_model('Efermi_MP_2019')\n",
        "model.compile(loss='mse')\n",
        "history = model.train(train_structures=X_train, train_targets=y_train, epochs = 300, batch_size = 10, verbose = 1)\n",
        "loss = history.history.history['loss']"
      ]
    },
    {
      "cell_type": "code",
      "execution_count": null,
      "metadata": {
        "id": "UrO8-Dszrca9"
      },
      "outputs": [],
      "source": [
        "loss"
      ]
    },
    {
      "cell_type": "code",
      "execution_count": null,
      "metadata": {
        "id": "MltMmS7f_iIM"
      },
      "outputs": [],
      "source": [
        "predictions_g1 = np.zeros(len(X_train))\n",
        "for i in range(len(X_train)):\n",
        "    print(i)\n",
        "    predictions_g1[i] = model.predict_structure(X_train[i]).ravel()"
      ]
    },
    {
      "cell_type": "code",
      "execution_count": null,
      "metadata": {
        "id": "nffkWbLjHp18"
      },
      "outputs": [],
      "source": [
        "predictions_g = np.zeros(len(X_test))\n",
        "for i in range(len(X_test)):\n",
        "    print(i)\n",
        "    predictions_g[i] = model.predict_structure(X_test[i]).ravel()"
      ]
    },
    {
      "cell_type": "code",
      "execution_count": null,
      "metadata": {
        "colab": {
          "base_uri": "https://localhost:8080/"
        },
        "id": "urlyRRP8YWwG",
        "outputId": "643a27cf-e38c-4aa7-a9bd-ebb1d9e3f780"
      },
      "outputs": [
        {
          "name": "stdout",
          "output_type": "stream",
          "text": [
            "154.81541004248103\n",
            "108.91135589825174\n"
          ]
        }
      ],
      "source": [
        "train_loss = ((predictions_g1 - y_train) ** 2).sum()\n",
        "test_loss = ((predictions_g - y_test) ** 2).sum()\n",
        "print(train_loss)\n",
        "print(test_loss)"
      ]
    },
    {
      "cell_type": "code",
      "execution_count": null,
      "metadata": {
        "colab": {
          "base_uri": "https://localhost:8080/",
          "height": 933
        },
        "id": "ZbGq2aUALoEO",
        "outputId": "dfcce8c6-b9a7-456f-ef70-b8988a411bbc"
      },
      "outputs": [
        {
          "data": {
            "image/png": "[encoded data removed]",
            "text/plain": [
              "<Figure size 640x480 with 1 Axes>"
            ]
          },
          "metadata": {},
          "output_type": "display_data"
        },
        {
          "data": {
            "image/png": "[encoded data removed]",
            "text/plain": [
              "<Figure size 640x480 with 1 Axes>"
            ]
          },
          "metadata": {},
          "output_type": "display_data"
        }
      ],
      "source": [
        "fig, ax = plt.subplots()\n",
        "ax.grid()\n",
        "\n",
        "\n",
        "plt.scatter(y_train, predictions_g1, color = 'blue', alpha = 0.1)\n",
        "plt.plot(y_train, y_train, color = 'black', linewidth = 3, alpha = 0.1)\n",
        "ax.set_xlabel('measured $ln T_c$')\n",
        "ax.set_ylabel('predicted $ln T_c$')\n",
        "plt.title(\"На тренировочной выборке\")\n",
        "#plt.ylim((0, 4))\n",
        "plt.show()\n",
        "\n",
        "plt.grid()\n",
        "plt.scatter(y_test, predictions_g, color = 'red', alpha = 0.1)\n",
        "plt.plot(y_test, y_test, color = 'black', linewidth = 3, alpha = 0.1)\n",
        "plt.xlabel('measured $ln T_c$')\n",
        "plt.ylabel('predicted $ln T_c$')\n",
        "plt.title(\"На тестовой выборке\")\n",
        "#plt.ylim((0, 4))\n",
        "plt.show()"
      ]
    },
    {
      "cell_type": "code",
      "execution_count": null,
      "metadata": {
        "id": "1ud8aHZWYQYj"
      },
      "outputs": [],
      "source": [
        "X_train, y_train = df2[:1000], targets2[:1000]\n",
        "X_test, y_test = df2[1000:], targets2[1000:]\n",
        "\n",
        "param_grid = { \n",
        "            \"n_estimators\"      : [30, 100, 300],\n",
        "            \"max_features\"      : [\"auto\", \"sqrt\", \"log2\"],\n",
        "            \"min_samples_split\" : [2,4,8],\n",
        "            \"bootstrap\": [True, False],\n",
        "            }\n",
        "rfr = RandomForestRegressor()\n",
        "CV_rfr = GridSearchCV(estimator = rfr, param_grid = param_grid, cv = 5)\n",
        "CV_rfr.fit(X_train, y_train)"
      ]
    },
    {
      "cell_type": "code",
      "execution_count": null,
      "metadata": {
        "colab": {
          "base_uri": "https://localhost:8080/"
        },
        "id": "MH3p5v1uY7Uo",
        "outputId": "15f83d93-6fdc-4231-c132-c868570d3a03"
      },
      "outputs": [
        {
          "data": {
            "text/plain": [
              "{'bootstrap': True,\n",
              " 'max_features': 'sqrt',\n",
              " 'min_samples_split': 4,\n",
              " 'n_estimators': 300}"
            ]
          },
          "execution_count": 58,
          "metadata": {},
          "output_type": "execute_result"
        }
      ],
      "source": [
        "CV_rfr.best_params_"
      ]
    },
    {
      "cell_type": "code",
      "execution_count": null,
      "metadata": {
        "id": "3MhE1gtvY9q6"
      },
      "outputs": [],
      "source": [
        "rfr1 = RandomForestRegressor(max_features = 'sqrt', min_samples_split = 4, bootstrap = True, n_estimators = 100)\n",
        "rfr1.fit(X_train, y_train)\n",
        "predictions = rfr1.predict(X_test)\n",
        "predictions1 = rfr1.predict(X_train)"
      ]
    },
    {
      "cell_type": "code",
      "execution_count": null,
      "metadata": {
        "colab": {
          "base_uri": "https://localhost:8080/"
        },
        "id": "i0bDwgbPY-Qo",
        "outputId": "71af1d14-c2a1-477a-d6aa-a39b953f0fbe"
      },
      "outputs": [
        {
          "name": "stdout",
          "output_type": "stream",
          "text": [
            "1545683.924147896\n",
            "24526.622424673278\n"
          ]
        }
      ],
      "source": [
        "train_loss = ((predictions1 - y_train) ** 2).sum()\n",
        "test_loss = ((predictions - y_test) ** 2).sum()\n",
        "print(train_loss)\n",
        "print(test_loss)"
      ]
    },
    {
      "cell_type": "code",
      "execution_count": null,
      "metadata": {
        "colab": {
          "base_uri": "https://localhost:8080/",
          "height": 931
        },
        "id": "L0r-WPuza61T",
        "outputId": "94243051-2f84-4257-a450-2f444944eb95"
      },
      "outputs": [
        {
          "data": {
            "image/png": "[encoded data removed]",
            "text/plain": [
              "<Figure size 640x480 with 1 Axes>"
            ]
          },
          "metadata": {},
          "output_type": "display_data"
        },
        {
          "data": {
            "image/png": "[encoded data removed]",
            "text/plain": [
              "<Figure size 640x480 with 1 Axes>"
            ]
          },
          "metadata": {},
          "output_type": "display_data"
        }
      ],
      "source": [
        "fig, ax = plt.subplots()\n",
        "ax.grid()\n",
        "\n",
        "\n",
        "plt.scatter(y_train, predictions1, color = 'blue', alpha = 0.1)\n",
        "plt.plot(y_train, y_train, color = 'black', linewidth = 3, alpha = 0.1)\n",
        "ax.set_xlabel('measured $ln T_c$')\n",
        "ax.set_ylabel('predicted $ln T_c$')\n",
        "plt.title(\"На тренировочной выборке\")\n",
        "#plt.ylim((0, 4))\n",
        "plt.show()\n",
        "\n",
        "plt.grid()\n",
        "plt.scatter(y_test, predictions, color = 'red', alpha = 0.1)\n",
        "plt.plot(y_test, y_test, color = 'black', linewidth = 3, alpha = 0.1)\n",
        "plt.xlabel('measured $ln T_c$')\n",
        "plt.ylabel('predicted $ln T_c$')\n",
        "plt.title(\"На тестовой выборке\")\n",
        "#plt.ylim((0, 4))\n",
        "plt.show()"
      ]
    }
  ],
  "metadata": {
    "colab": {
      "provenance": []
    },
    "gpuClass": "standard",
    "kernelspec": {
      "display_name": "Python 3",
      "name": "python3"
    },
    "language_info": {
      "name": "python"
    },
    "widgets": {
      "application/vnd.jupyter.widget-state+json": {
        "8a6d6675acbe439da3f7bb5ea35b1752": {
          "model_module": "@jupyter-widgets/controls",
          "model_name": "HBoxModel",
          "model_module_version": "1.5.0",
          "state": {
            "_dom_classes": [],
            "_model_module": "@jupyter-widgets/controls",
            "_model_module_version": "1.5.0",
            "_model_name": "HBoxModel",
            "_view_count": null,
            "_view_module": "@jupyter-widgets/controls",
            "_view_module_version": "1.5.0",
            "_view_name": "HBoxView",
            "box_style": "",
            "children": [
              "IPY_MODEL_75e0d1d2b0a149b091f72d710dd12e84",
              "IPY_MODEL_3d8116b3388040d19e4a63989e28e098",
              "IPY_MODEL_ba531968703e44d9b265ef0dc957f1bf"
            ],
            "layout": "IPY_MODEL_20e5ec5999fa4dfa870ff5a7d9f66556"
          }
        },
        "75e0d1d2b0a149b091f72d710dd12e84": {
          "model_module": "@jupyter-widgets/controls",
          "model_name": "HTMLModel",
          "model_module_version": "1.5.0",
          "state": {
            "_dom_classes": [],
            "_model_module": "@jupyter-widgets/controls",
            "_model_module_version": "1.5.0",
            "_model_name": "HTMLModel",
            "_view_count": null,
            "_view_module": "@jupyter-widgets/controls",
            "_view_module_version": "1.5.0",
            "_view_name": "HTMLView",
            "description": "",
            "description_tooltip": null,
            "layout": "IPY_MODEL_b24589d1ca2f40b98de73b8ffcccb63e",
            "placeholder": "​",
            "style": "IPY_MODEL_21618bb8490648b7b5612d1c936afffe",
            "value": "StrToComposition: 100%"
          }
        },
        "3d8116b3388040d19e4a63989e28e098": {
          "model_module": "@jupyter-widgets/controls",
          "model_name": "FloatProgressModel",
          "model_module_version": "1.5.0",
          "state": {
            "_dom_classes": [],
            "_model_module": "@jupyter-widgets/controls",
            "_model_module_version": "1.5.0",
            "_model_name": "FloatProgressModel",
            "_view_count": null,
            "_view_module": "@jupyter-widgets/controls",
            "_view_module_version": "1.5.0",
            "_view_name": "ProgressView",
            "bar_style": "success",
            "description": "",
            "description_tooltip": null,
            "layout": "IPY_MODEL_23729826f5b648158244193db8d01dbb",
            "max": 3950,
            "min": 0,
            "orientation": "horizontal",
            "style": "IPY_MODEL_5b0032bf1f58483d81585cd3c830761b",
            "value": 3950
          }
        },
        "ba531968703e44d9b265ef0dc957f1bf": {
          "model_module": "@jupyter-widgets/controls",
          "model_name": "HTMLModel",
          "model_module_version": "1.5.0",
          "state": {
            "_dom_classes": [],
            "_model_module": "@jupyter-widgets/controls",
            "_model_module_version": "1.5.0",
            "_model_name": "HTMLModel",
            "_view_count": null,
            "_view_module": "@jupyter-widgets/controls",
            "_view_module_version": "1.5.0",
            "_view_name": "HTMLView",
            "description": "",
            "description_tooltip": null,
            "layout": "IPY_MODEL_3b210665793642bd846f7dc6dde9287f",
            "placeholder": "​",
            "style": "IPY_MODEL_e455f92109634671952196b0482e11e2",
            "value": " 3950/3950 [00:31&lt;00:00, 97.33it/s]"
          }
        },
        "20e5ec5999fa4dfa870ff5a7d9f66556": {
          "model_module": "@jupyter-widgets/base",
          "model_name": "LayoutModel",
          "model_module_version": "1.2.0",
          "state": {
            "_model_module": "@jupyter-widgets/base",
            "_model_module_version": "1.2.0",
            "_model_name": "LayoutModel",
            "_view_count": null,
            "_view_module": "@jupyter-widgets/base",
            "_view_module_version": "1.2.0",
            "_view_name": "LayoutView",
            "align_content": null,
            "align_items": null,
            "align_self": null,
            "border": null,
            "bottom": null,
            "display": null,
            "flex": null,
            "flex_flow": null,
            "grid_area": null,
            "grid_auto_columns": null,
            "grid_auto_flow": null,
            "grid_auto_rows": null,
            "grid_column": null,
            "grid_gap": null,
            "grid_row": null,
            "grid_template_areas": null,
            "grid_template_columns": null,
            "grid_template_rows": null,
            "height": null,
            "justify_content": null,
            "justify_items": null,
            "left": null,
            "margin": null,
            "max_height": null,
            "max_width": null,
            "min_height": null,
            "min_width": null,
            "object_fit": null,
            "object_position": null,
            "order": null,
            "overflow": null,
            "overflow_x": null,
            "overflow_y": null,
            "padding": null,
            "right": null,
            "top": null,
            "visibility": null,
            "width": null
          }
        },
        "b24589d1ca2f40b98de73b8ffcccb63e": {
          "model_module": "@jupyter-widgets/base",
          "model_name": "LayoutModel",
          "model_module_version": "1.2.0",
          "state": {
            "_model_module": "@jupyter-widgets/base",
            "_model_module_version": "1.2.0",
            "_model_name": "LayoutModel",
            "_view_count": null,
            "_view_module": "@jupyter-widgets/base",
            "_view_module_version": "1.2.0",
            "_view_name": "LayoutView",
            "align_content": null,
            "align_items": null,
            "align_self": null,
            "border": null,
            "bottom": null,
            "display": null,
            "flex": null,
            "flex_flow": null,
            "grid_area": null,
            "grid_auto_columns": null,
            "grid_auto_flow": null,
            "grid_auto_rows": null,
            "grid_column": null,
            "grid_gap": null,
            "grid_row": null,
            "grid_template_areas": null,
            "grid_template_columns": null,
            "grid_template_rows": null,
            "height": null,
            "justify_content": null,
            "justify_items": null,
            "left": null,
            "margin": null,
            "max_height": null,
            "max_width": null,
            "min_height": null,
            "min_width": null,
            "object_fit": null,
            "object_position": null,
            "order": null,
            "overflow": null,
            "overflow_x": null,
            "overflow_y": null,
            "padding": null,
            "right": null,
            "top": null,
            "visibility": null,
            "width": null
          }
        },
        "21618bb8490648b7b5612d1c936afffe": {
          "model_module": "@jupyter-widgets/controls",
          "model_name": "DescriptionStyleModel",
          "model_module_version": "1.5.0",
          "state": {
            "_model_module": "@jupyter-widgets/controls",
            "_model_module_version": "1.5.0",
            "_model_name": "DescriptionStyleModel",
            "_view_count": null,
            "_view_module": "@jupyter-widgets/base",
            "_view_module_version": "1.2.0",
            "_view_name": "StyleView",
            "description_width": ""
          }
        },
        "23729826f5b648158244193db8d01dbb": {
          "model_module": "@jupyter-widgets/base",
          "model_name": "LayoutModel",
          "model_module_version": "1.2.0",
          "state": {
            "_model_module": "@jupyter-widgets/base",
            "_model_module_version": "1.2.0",
            "_model_name": "LayoutModel",
            "_view_count": null,
            "_view_module": "@jupyter-widgets/base",
            "_view_module_version": "1.2.0",
            "_view_name": "LayoutView",
            "align_content": null,
            "align_items": null,
            "align_self": null,
            "border": null,
            "bottom": null,
            "display": null,
            "flex": null,
            "flex_flow": null,
            "grid_area": null,
            "grid_auto_columns": null,
            "grid_auto_flow": null,
            "grid_auto_rows": null,
            "grid_column": null,
            "grid_gap": null,
            "grid_row": null,
            "grid_template_areas": null,
            "grid_template_columns": null,
            "grid_template_rows": null,
            "height": null,
            "justify_content": null,
            "justify_items": null,
            "left": null,
            "margin": null,
            "max_height": null,
            "max_width": null,
            "min_height": null,
            "min_width": null,
            "object_fit": null,
            "object_position": null,
            "order": null,
            "overflow": null,
            "overflow_x": null,
            "overflow_y": null,
            "padding": null,
            "right": null,
            "top": null,
            "visibility": null,
            "width": null
          }
        },
        "5b0032bf1f58483d81585cd3c830761b": {
          "model_module": "@jupyter-widgets/controls",
          "model_name": "ProgressStyleModel",
          "model_module_version": "1.5.0",
          "state": {
            "_model_module": "@jupyter-widgets/controls",
            "_model_module_version": "1.5.0",
            "_model_name": "ProgressStyleModel",
            "_view_count": null,
            "_view_module": "@jupyter-widgets/base",
            "_view_module_version": "1.2.0",
            "_view_name": "StyleView",
            "bar_color": null,
            "description_width": ""
          }
        },
        "3b210665793642bd846f7dc6dde9287f": {
          "model_module": "@jupyter-widgets/base",
          "model_name": "LayoutModel",
          "model_module_version": "1.2.0",
          "state": {
            "_model_module": "@jupyter-widgets/base",
            "_model_module_version": "1.2.0",
            "_model_name": "LayoutModel",
            "_view_count": null,
            "_view_module": "@jupyter-widgets/base",
            "_view_module_version": "1.2.0",
            "_view_name": "LayoutView",
            "align_content": null,
            "align_items": null,
            "align_self": null,
            "border": null,
            "bottom": null,
            "display": null,
            "flex": null,
            "flex_flow": null,
            "grid_area": null,
            "grid_auto_columns": null,
            "grid_auto_flow": null,
            "grid_auto_rows": null,
            "grid_column": null,
            "grid_gap": null,
            "grid_row": null,
            "grid_template_areas": null,
            "grid_template_columns": null,
            "grid_template_rows": null,
            "height": null,
            "justify_content": null,
            "justify_items": null,
            "left": null,
            "margin": null,
            "max_height": null,
            "max_width": null,
            "min_height": null,
            "min_width": null,
            "object_fit": null,
            "object_position": null,
            "order": null,
            "overflow": null,
            "overflow_x": null,
            "overflow_y": null,
            "padding": null,
            "right": null,
            "top": null,
            "visibility": null,
            "width": null
          }
        },
        "e455f92109634671952196b0482e11e2": {
          "model_module": "@jupyter-widgets/controls",
          "model_name": "DescriptionStyleModel",
          "model_module_version": "1.5.0",
          "state": {
            "_model_module": "@jupyter-widgets/controls",
            "_model_module_version": "1.5.0",
            "_model_name": "DescriptionStyleModel",
            "_view_count": null,
            "_view_module": "@jupyter-widgets/base",
            "_view_module_version": "1.2.0",
            "_view_name": "StyleView",
            "description_width": ""
          }
        },
        "0ddf2a1449224e8a8b6940be9277bfd7": {
          "model_module": "@jupyter-widgets/controls",
          "model_name": "HBoxModel",
          "model_module_version": "1.5.0",
          "state": {
            "_dom_classes": [],
            "_model_module": "@jupyter-widgets/controls",
            "_model_module_version": "1.5.0",
            "_model_name": "HBoxModel",
            "_view_count": null,
            "_view_module": "@jupyter-widgets/controls",
            "_view_module_version": "1.5.0",
            "_view_name": "HBoxView",
            "box_style": "",
            "children": [
              "IPY_MODEL_4a1b1a131f3c4d2b9496dec8aa9217f6",
              "IPY_MODEL_bee10979b66648c68fdf9028662abd66",
              "IPY_MODEL_6a363650bce7474da7fb3d561c3662d3"
            ],
            "layout": "IPY_MODEL_9bd2c4a9b66a48eb801c7f421b723155"
          }
        },
        "4a1b1a131f3c4d2b9496dec8aa9217f6": {
          "model_module": "@jupyter-widgets/controls",
          "model_name": "HTMLModel",
          "model_module_version": "1.5.0",
          "state": {
            "_dom_classes": [],
            "_model_module": "@jupyter-widgets/controls",
            "_model_module_version": "1.5.0",
            "_model_name": "HTMLModel",
            "_view_count": null,
            "_view_module": "@jupyter-widgets/controls",
            "_view_module_version": "1.5.0",
            "_view_name": "HTMLView",
            "description": "",
            "description_tooltip": null,
            "layout": "IPY_MODEL_b79e6a431960444d808659b1eb92cc09",
            "placeholder": "​",
            "style": "IPY_MODEL_d74a80020c9040e993d1b91fb46a98d0",
            "value": "ElementProperty: 100%"
          }
        },
        "bee10979b66648c68fdf9028662abd66": {
          "model_module": "@jupyter-widgets/controls",
          "model_name": "FloatProgressModel",
          "model_module_version": "1.5.0",
          "state": {
            "_dom_classes": [],
            "_model_module": "@jupyter-widgets/controls",
            "_model_module_version": "1.5.0",
            "_model_name": "FloatProgressModel",
            "_view_count": null,
            "_view_module": "@jupyter-widgets/controls",
            "_view_module_version": "1.5.0",
            "_view_name": "ProgressView",
            "bar_style": "success",
            "description": "",
            "description_tooltip": null,
            "layout": "IPY_MODEL_d5db3706688b421aab8ed6f144746a19",
            "max": 3950,
            "min": 0,
            "orientation": "horizontal",
            "style": "IPY_MODEL_998cecda4294456d93f713393e90b0be",
            "value": 3950
          }
        },
        "6a363650bce7474da7fb3d561c3662d3": {
          "model_module": "@jupyter-widgets/controls",
          "model_name": "HTMLModel",
          "model_module_version": "1.5.0",
          "state": {
            "_dom_classes": [],
            "_model_module": "@jupyter-widgets/controls",
            "_model_module_version": "1.5.0",
            "_model_name": "HTMLModel",
            "_view_count": null,
            "_view_module": "@jupyter-widgets/controls",
            "_view_module_version": "1.5.0",
            "_view_name": "HTMLView",
            "description": "",
            "description_tooltip": null,
            "layout": "IPY_MODEL_9d7725dfaa8946ddb0f547502f6347e8",
            "placeholder": "​",
            "style": "IPY_MODEL_9a3e801949774db3b174343f590de5f6",
            "value": " 3950/3950 [01:31&lt;00:00, 51.91it/s]"
          }
        },
        "9bd2c4a9b66a48eb801c7f421b723155": {
          "model_module": "@jupyter-widgets/base",
          "model_name": "LayoutModel",
          "model_module_version": "1.2.0",
          "state": {
            "_model_module": "@jupyter-widgets/base",
            "_model_module_version": "1.2.0",
            "_model_name": "LayoutModel",
            "_view_count": null,
            "_view_module": "@jupyter-widgets/base",
            "_view_module_version": "1.2.0",
            "_view_name": "LayoutView",
            "align_content": null,
            "align_items": null,
            "align_self": null,
            "border": null,
            "bottom": null,
            "display": null,
            "flex": null,
            "flex_flow": null,
            "grid_area": null,
            "grid_auto_columns": null,
            "grid_auto_flow": null,
            "grid_auto_rows": null,
            "grid_column": null,
            "grid_gap": null,
            "grid_row": null,
            "grid_template_areas": null,
            "grid_template_columns": null,
            "grid_template_rows": null,
            "height": null,
            "justify_content": null,
            "justify_items": null,
            "left": null,
            "margin": null,
            "max_height": null,
            "max_width": null,
            "min_height": null,
            "min_width": null,
            "object_fit": null,
            "object_position": null,
            "order": null,
            "overflow": null,
            "overflow_x": null,
            "overflow_y": null,
            "padding": null,
            "right": null,
            "top": null,
            "visibility": null,
            "width": null
          }
        },
        "b79e6a431960444d808659b1eb92cc09": {
          "model_module": "@jupyter-widgets/base",
          "model_name": "LayoutModel",
          "model_module_version": "1.2.0",
          "state": {
            "_model_module": "@jupyter-widgets/base",
            "_model_module_version": "1.2.0",
            "_model_name": "LayoutModel",
            "_view_count": null,
            "_view_module": "@jupyter-widgets/base",
            "_view_module_version": "1.2.0",
            "_view_name": "LayoutView",
            "align_content": null,
            "align_items": null,
            "align_self": null,
            "border": null,
            "bottom": null,
            "display": null,
            "flex": null,
            "flex_flow": null,
            "grid_area": null,
            "grid_auto_columns": null,
            "grid_auto_flow": null,
            "grid_auto_rows": null,
            "grid_column": null,
            "grid_gap": null,
            "grid_row": null,
            "grid_template_areas": null,
            "grid_template_columns": null,
            "grid_template_rows": null,
            "height": null,
            "justify_content": null,
            "justify_items": null,
            "left": null,
            "margin": null,
            "max_height": null,
            "max_width": null,
            "min_height": null,
            "min_width": null,
            "object_fit": null,
            "object_position": null,
            "order": null,
            "overflow": null,
            "overflow_x": null,
            "overflow_y": null,
            "padding": null,
            "right": null,
            "top": null,
            "visibility": null,
            "width": null
          }
        },
        "d74a80020c9040e993d1b91fb46a98d0": {
          "model_module": "@jupyter-widgets/controls",
          "model_name": "DescriptionStyleModel",
          "model_module_version": "1.5.0",
          "state": {
            "_model_module": "@jupyter-widgets/controls",
            "_model_module_version": "1.5.0",
            "_model_name": "DescriptionStyleModel",
            "_view_count": null,
            "_view_module": "@jupyter-widgets/base",
            "_view_module_version": "1.2.0",
            "_view_name": "StyleView",
            "description_width": ""
          }
        },
        "d5db3706688b421aab8ed6f144746a19": {
          "model_module": "@jupyter-widgets/base",
          "model_name": "LayoutModel",
          "model_module_version": "1.2.0",
          "state": {
            "_model_module": "@jupyter-widgets/base",
            "_model_module_version": "1.2.0",
            "_model_name": "LayoutModel",
            "_view_count": null,
            "_view_module": "@jupyter-widgets/base",
            "_view_module_version": "1.2.0",
            "_view_name": "LayoutView",
            "align_content": null,
            "align_items": null,
            "align_self": null,
            "border": null,
            "bottom": null,
            "display": null,
            "flex": null,
            "flex_flow": null,
            "grid_area": null,
            "grid_auto_columns": null,
            "grid_auto_flow": null,
            "grid_auto_rows": null,
            "grid_column": null,
            "grid_gap": null,
            "grid_row": null,
            "grid_template_areas": null,
            "grid_template_columns": null,
            "grid_template_rows": null,
            "height": null,
            "justify_content": null,
            "justify_items": null,
            "left": null,
            "margin": null,
            "max_height": null,
            "max_width": null,
            "min_height": null,
            "min_width": null,
            "object_fit": null,
            "object_position": null,
            "order": null,
            "overflow": null,
            "overflow_x": null,
            "overflow_y": null,
            "padding": null,
            "right": null,
            "top": null,
            "visibility": null,
            "width": null
          }
        },
        "998cecda4294456d93f713393e90b0be": {
          "model_module": "@jupyter-widgets/controls",
          "model_name": "ProgressStyleModel",
          "model_module_version": "1.5.0",
          "state": {
            "_model_module": "@jupyter-widgets/controls",
            "_model_module_version": "1.5.0",
            "_model_name": "ProgressStyleModel",
            "_view_count": null,
            "_view_module": "@jupyter-widgets/base",
            "_view_module_version": "1.2.0",
            "_view_name": "StyleView",
            "bar_color": null,
            "description_width": ""
          }
        },
        "9d7725dfaa8946ddb0f547502f6347e8": {
          "model_module": "@jupyter-widgets/base",
          "model_name": "LayoutModel",
          "model_module_version": "1.2.0",
          "state": {
            "_model_module": "@jupyter-widgets/base",
            "_model_module_version": "1.2.0",
            "_model_name": "LayoutModel",
            "_view_count": null,
            "_view_module": "@jupyter-widgets/base",
            "_view_module_version": "1.2.0",
            "_view_name": "LayoutView",
            "align_content": null,
            "align_items": null,
            "align_self": null,
            "border": null,
            "bottom": null,
            "display": null,
            "flex": null,
            "flex_flow": null,
            "grid_area": null,
            "grid_auto_columns": null,
            "grid_auto_flow": null,
            "grid_auto_rows": null,
            "grid_column": null,
            "grid_gap": null,
            "grid_row": null,
            "grid_template_areas": null,
            "grid_template_columns": null,
            "grid_template_rows": null,
            "height": null,
            "justify_content": null,
            "justify_items": null,
            "left": null,
            "margin": null,
            "max_height": null,
            "max_width": null,
            "min_height": null,
            "min_width": null,
            "object_fit": null,
            "object_position": null,
            "order": null,
            "overflow": null,
            "overflow_x": null,
            "overflow_y": null,
            "padding": null,
            "right": null,
            "top": null,
            "visibility": null,
            "width": null
          }
        },
        "9a3e801949774db3b174343f590de5f6": {
          "model_module": "@jupyter-widgets/controls",
          "model_name": "DescriptionStyleModel",
          "model_module_version": "1.5.0",
          "state": {
            "_model_module": "@jupyter-widgets/controls",
            "_model_module_version": "1.5.0",
            "_model_name": "DescriptionStyleModel",
            "_view_count": null,
            "_view_module": "@jupyter-widgets/base",
            "_view_module_version": "1.2.0",
            "_view_name": "StyleView",
            "description_width": ""
          }
        }
      }
    }
  },
  "nbformat": 4,
  "nbformat_minor": 0
}