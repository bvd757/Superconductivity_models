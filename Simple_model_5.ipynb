{
  "nbformat": 4,
  "nbformat_minor": 0,
  "metadata": {
    "colab": {
      "provenance": []
    },
    "kernelspec": {
      "name": "python3",
      "display_name": "Python 3"
    },
    "language_info": {
      "name": "python"
    }
  },
  "cells": [
    {
      "cell_type": "markdown",
      "source": [
        "# The simple model 5\n",
        "Был использован GridSearchCV для посика наилучших параметров, bootstrap = False"
      ],
      "metadata": {
        "id": "o0ViGCeqM43C"
      }
    },
    {
      "cell_type": "code",
      "execution_count": null,
      "metadata": {
        "id": "brxqXbwwINBJ"
      },
      "outputs": [],
      "source": [
        "import numpy as np\n",
        "import pandas as pd\n",
        "import matplotlib.pyplot as plt\n",
        "from sklearn import datasets\n",
        "from sklearn.ensemble import RandomForestRegressor\n",
        "from sklearn.model_selection import train_test_split\n",
        "from sklearn.linear_model import LinearRegression\n",
        "from sklearn.metrics import mean_squared_error, r2_score\n",
        "from sklearn.model_selection import GridSearchCV\n",
        "from sklearn.ensemble import GradientBoostingClassifier\n",
        "\n",
        "!pip install matminer;"
      ]
    },
    {
      "cell_type": "code",
      "source": [
        "data = pd.read_csv('3DSC_MP.csv', header = 1)\n",
        "data1 = data.loc[data['tc'] < 10.0]\n",
        "data_t = data1[['tc']]\n",
        "data2 = data1[['formula_sc']]\n",
        "data2"
      ],
      "metadata": {
        "id": "_pGeC0hhJ7dp"
      },
      "execution_count": null,
      "outputs": []
    },
    {
      "cell_type": "code",
      "source": [
        "from matminer.featurizers.composition import ElementProperty\n",
        "from matminer.featurizers.conversions import StrToComposition\n",
        "ep_feat = ElementProperty.from_preset(preset_name=\"magpie\")\n",
        "d = {\"element\": np.array(data2)[:, 0]}\n",
        "df = pd.DataFrame(d)\n",
        "\n",
        "df = StrToComposition().featurize_dataframe(df, \"element\")\n",
        "df = ep_feat.featurize_dataframe(df, col_id = 'composition')\n",
        "df"
      ],
      "metadata": {
        "id": "9wkuFnjvVuDN"
      },
      "execution_count": null,
      "outputs": []
    },
    {
      "cell_type": "code",
      "source": [
        "pd.set_option('display.max_columns', 200)\n",
        "df"
      ],
      "metadata": {
        "id": "IbojEv0ijn8j"
      },
      "execution_count": null,
      "outputs": []
    },
    {
      "cell_type": "code",
      "source": [
        "X_train, X_test, y_train, y_test = train_test_split(df[['MagpieData mean AtomicWeight', 'MagpieData mean MeltingT',\n",
        "'MagpieData mean Electronegativity', 'MagpieData mean NdValence', 'MagpieData mean GSvolume_pa', 'MagpieData mean SpaceGroupNumber', 'MagpieData mean NdUnfilled']], data_t, test_size=0.3, random_state=85)\n",
        "\n",
        "param_grid = { \n",
        "            \"n_estimators\"      : [30, 100, 300],\n",
        "            \"max_features\"      : [\"auto\", \"sqrt\", \"log2\"],\n",
        "            \"min_samples_split\" : [2,4,8],\n",
        "            \"bootstrap\": [True, False],\n",
        "            }\n",
        "rfr = RandomForestRegressor()\n",
        "CV_rfr = GridSearchCV(estimator = rfr, param_grid = param_grid, cv = 5)\n",
        "CV_rfr.fit(X_train, y_train)"
      ],
      "metadata": {
        "id": "1lQ1aH6JflNE"
      },
      "execution_count": null,
      "outputs": []
    },
    {
      "cell_type": "code",
      "source": [
        "CV_rfr.best_params_"
      ],
      "metadata": {
        "colab": {
          "base_uri": "https://localhost:8080/"
        },
        "id": "biOPL_ch_jfu",
        "outputId": "64318f91-c514-4a66-91d5-1526703ffbfa"
      },
      "execution_count": 26,
      "outputs": [
        {
          "output_type": "execute_result",
          "data": {
            "text/plain": [
              "{'bootstrap': True,\n",
              " 'max_features': 'sqrt',\n",
              " 'min_samples_split': 2,\n",
              " 'n_estimators': 100}"
            ]
          },
          "metadata": {},
          "execution_count": 26
        }
      ]
    },
    {
      "cell_type": "code",
      "source": [
        "rfr1 = RandomForestRegressor(max_features = 'sqrt', min_samples_split = 2, bootstrap = False, n_estimators = 100)\n",
        "rfr1.fit(X_train, y_train)\n",
        "predictions = rfr1.predict(X_test)\n",
        "predictions1 = rfr1.predict(X_train)"
      ],
      "metadata": {
        "colab": {
          "base_uri": "https://localhost:8080/"
        },
        "id": "7aYIHJIU2S2N",
        "outputId": "59e82075-9ff1-4879-d37c-a6ffde00fbaf"
      },
      "execution_count": 37,
      "outputs": [
        {
          "output_type": "stream",
          "name": "stderr",
          "text": [
            "<ipython-input-37-475585d42315>:2: DataConversionWarning: A column-vector y was passed when a 1d array was expected. Please change the shape of y to (n_samples,), for example using ravel().\n",
            "  rfr1.fit(X_train, y_train)\n"
          ]
        }
      ]
    },
    {
      "cell_type": "code",
      "source": [
        "fig, ax = plt.subplots()\n",
        "ax.grid()\n",
        "\n",
        "plt.scatter(y_train, predictions1, color = 'black')\n",
        "plt.plot(y_train, y_train, color = 'blue', linewidth = 3)\n",
        "ax.set_xlabel('measured $T_c$')\n",
        "ax.set_ylabel('predicted $T_c$')\n",
        "plt.title(\"На тренировочной выборке\")\n",
        "plt.ylim((0, 4))\n",
        "plt.show()\n",
        "\n",
        "\n",
        "plt.scatter(y_test, predictions, color = 'black')\n",
        "plt.plot(y_test, y_test, color = 'blue', linewidth = 3)\n",
        "ax.set_xlabel('measured $T_c$')\n",
        "ax.set_ylabel('predicted $T_c$')\n",
        "plt.title(\"На тестовой выборке\")\n",
        "plt.ylim((0, 4))\n",
        "plt.show()"
      ],
      "metadata": {
        "colab": {
          "base_uri": "https://localhost:8080/",
          "height": 563
        },
        "id": "krGoxQUvi6hF",
        "outputId": "dc39abd3-88d7-41c3-8ac3-8601cce05da6"
      },
      "execution_count": 38,
      "outputs": [
        {
          "output_type": "display_data",
          "data": {
            "text/plain": [
              "<Figure size 432x288 with 1 Axes>"
            ],
            "image/png": "[encoded data removed]"
          },
          "metadata": {
            "needs_background": "light"
          }
        },
        {
          "output_type": "display_data",
          "data": {
            "text/plain": [
              "<Figure size 432x288 with 1 Axes>"
            ],
            "image/png": "[encoded data removed]"
          },
          "metadata": {
            "needs_background": "light"
          }
        }
      ]
    }
  ]
}