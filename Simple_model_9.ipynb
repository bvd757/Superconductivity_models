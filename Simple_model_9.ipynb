{
  "nbformat": 4,
  "nbformat_minor": 0,
  "metadata": {
    "colab": {
      "provenance": []
    },
    "kernelspec": {
      "name": "python3",
      "display_name": "Python 3"
    },
    "language_info": {
      "name": "python"
    },
    "gpuClass": "standard"
  },
  "cells": [
    {
      "cell_type": "markdown",
      "source": [
        "# The simple model 9\n",
        "Теперь без Behler-Parrinello, но с графовой нейронной сетью от Megnet"
      ],
      "metadata": {
        "id": "o0ViGCeqM43C"
      }
    },
    {
      "cell_type": "code",
      "execution_count": null,
      "metadata": {
        "id": "brxqXbwwINBJ"
      },
      "outputs": [],
      "source": [
        "import numpy as np\n",
        "import pandas as pd\n",
        "import os\n",
        "import matplotlib.pyplot as plt\n",
        "from sklearn import datasets\n",
        "from sklearn.ensemble import RandomForestRegressor\n",
        "from sklearn.model_selection import train_test_split\n",
        "from sklearn.linear_model import LinearRegression\n",
        "from sklearn.metrics import mean_squared_error, r2_score\n",
        "from sklearn.model_selection import GridSearchCV, cross_val_score\n",
        "from sklearn.ensemble import GradientBoostingClassifier\n",
        "from sklearn.pipeline import Pipeline\n",
        "\n",
        "!pip install matminer\n",
        "!pip install pymatgen\n",
        "!pip install maml\n",
        "!git clone https://github.com/bvd757/3DSC.git\n",
        "!pip install megnet\n",
        "\n",
        "from megnet.models import MEGNetModel\n",
        "from megnet.data.crystal import CrystalGraph\n",
        "\n",
        "from pymatgen.core.structure import Structure\n",
        "from maml.describers import BPSymmetryFunctions\n",
        "\n",
        "!pip install monty\n",
        "from monty.json import MontyDecoder\n",
        "from monty.serialization import loadfn\n",
        "\n",
        "from megnet.data.crystal import CrystalGraph\n",
        "from megnet.data.graph import GaussianDistance\n",
        "from megnet.models import MEGNetModel"
      ]
    },
    {
      "cell_type": "code",
      "source": [
        "data = pd.read_csv('https://raw.githubusercontent.com/aimat-lab/3DSC/main/superconductors_3D/data/final/MP/3DSC_MP.csv', header = 1)\n",
        "data1 = data.loc[data['tc'] > 0.0]\n",
        "data1 = data1.loc[data['tc'] < 30.0]\n",
        "data_t = data1[['tc']]\n",
        "data2 = data1[['formula_sc']]"
      ],
      "metadata": {
        "id": "_pGeC0hhJ7dp"
      },
      "execution_count": 2,
      "outputs": []
    },
    {
      "cell_type": "code",
      "source": [
        "from matminer.featurizers.composition import ElementProperty\n",
        "from matminer.featurizers.conversions import StrToComposition\n",
        "ep_feat = ElementProperty.from_preset(preset_name=\"magpie\")\n",
        "d = {\"element\": np.array(data2)[:, 0]}\n",
        "df = pd.DataFrame(d)\n",
        "\n",
        "df = StrToComposition().featurize_dataframe(df, \"element\")\n",
        "df = ep_feat.featurize_dataframe(df, col_id = 'composition')"
      ],
      "metadata": {
        "id": "9wkuFnjvVuDN"
      },
      "execution_count": null,
      "outputs": []
    },
    {
      "cell_type": "code",
      "source": [
        "structures1 = [0] * len(df)\n",
        "targets1 = [0] * len(df)\n",
        "data_t1 = np.array(data_t)\n",
        "l = len(df)\n",
        "for i in enumerate(os.listdir(path=\"/content/3DSC/superconductors_3D/data/final/MP/cifs\")):\n",
        "    if i[0] % 100 == 0: print(i[0])\n",
        "    #print(\"\\n\\n\\n\\n\\n\\n\\n\\n\\n\\n\\n\\n\\n\\n\\n\\n\\n\", i[1], \"\\n\\n\\n\\n\\n\\n\\n\\n\\n\\n\\n\\n\\n\\n\\n\\n\\n\")\n",
        "    if i[1][:i[1].find('-MP')] not in df['element'].to_list(): continue\n",
        "    j = df.loc[df['element'] == i[1][:i[1].find('-MP')]].index\n",
        "    j = j[0]\n",
        "    cif = Structure.from_file(\"/content/3DSC/superconductors_3D/data/final/MP/cifs/\" + i[1])\n",
        "    structures1[j] = cif\n",
        "    targets1[j] = data_t1[j]\n",
        "\n",
        "df1 = df[['MagpieData mean AtomicWeight', 'MagpieData mean MeltingT',\n",
        "'MagpieData mean Electronegativity', 'MagpieData mean NdValence', 'MagpieData mean GSvolume_pa', 'MagpieData mean SpaceGroupNumber', 'MagpieData mean NdUnfilled']]"
      ],
      "metadata": {
        "id": "IbojEv0ijn8j"
      },
      "execution_count": null,
      "outputs": []
    },
    {
      "cell_type": "code",
      "source": [
        "model = MEGNetModel(10, 2, nblocks=1, lr=1e-2,\n",
        "                    n1=4, n2=4, n3=4, npass=1, ntarget=1,\n",
        "                    graph_converter=CrystalGraph(bond_converter=GaussianDistance(np.linspace(0, 5, 10), 0.5)))"
      ],
      "metadata": {
        "id": "7K4ltDgs-vps",
        "colab": {
          "base_uri": "https://localhost:8080/"
        },
        "outputId": "52f384f0-4f8b-4a15-d46c-572ea209a9e4"
      },
      "execution_count": 5,
      "outputs": [
        {
          "output_type": "stream",
          "name": "stderr",
          "text": [
            "/usr/local/lib/python3.9/dist-packages/keras/initializers/initializers_v2.py:120: UserWarning: The initializer GlorotUniform is unseeded and being called multiple times, which will return identical values  each time (even if the initializer is unseeded). Please update your code to provide a seed to the initializer, or avoid using the same initalizer instance more than once.\n",
            "  warnings.warn(\n"
          ]
        }
      ]
    },
    {
      "cell_type": "code",
      "source": [
        "structure_for_test = Structure.from_file(\"/content/3DSC/superconductors_3D/data/final/MP/cifs/\" + 'Ag0.55Hg0.45-MP-mp-770433.cif')\n",
        "A = []\n",
        "B = []\n",
        "for i in range(len(structures1)):\n",
        "    if i % 100 == 0:\n",
        "        print('\\n\\n\\n\\n\\n\\n', i, len(B) / (i + 1), '\\n\\n\\n\\n\\n\\n')\n",
        "        \n",
        "    if structures1[i] == 0:\n",
        "        B.append(i)\n",
        "        continue\n",
        "\n",
        "    try:\n",
        "        model.train([structure_for_test, structures1[i]], [1, 1], epochs=1);\n",
        "        A.append(i)\n",
        "    except:\n",
        "        B.append(i)\n",
        "\n",
        "B = sorted(B, reverse = True)"
      ],
      "metadata": {
        "id": "nqwORKtL-bf6"
      },
      "execution_count": null,
      "outputs": []
    },
    {
      "cell_type": "code",
      "source": [
        "structures2 = structures1.copy()\n",
        "targets2 = targets1.copy()\n",
        "df2 = df1.copy()\n",
        "df2.drop(labels=B, axis=0, inplace=True)\n",
        "\n",
        "for i in B:\n",
        "    structures2.pop(i)\n",
        "    targets2.pop(i)"
      ],
      "metadata": {
        "id": "zShPku_2_n4a"
      },
      "execution_count": 7,
      "outputs": []
    },
    {
      "cell_type": "code",
      "source": [
        "len(A)"
      ],
      "metadata": {
        "colab": {
          "base_uri": "https://localhost:8080/"
        },
        "id": "zyVcQSOQ97Qs",
        "outputId": "da66ba9d-64f7-4981-ccc2-eddfb25df596"
      },
      "execution_count": 8,
      "outputs": [
        {
          "output_type": "execute_result",
          "data": {
            "text/plain": [
              "1166"
            ]
          },
          "metadata": {},
          "execution_count": 8
        }
      ]
    },
    {
      "cell_type": "code",
      "source": [
        "X_train, y_train = structures2, targets2\n",
        "model.train([structures2[9], structures2[0]], [1, 1], epochs=10)"
      ],
      "metadata": {
        "id": "fceYpzdIHMVq"
      },
      "execution_count": null,
      "outputs": []
    },
    {
      "cell_type": "code",
      "source": [
        "predictions_g = np.zeros(len(X_train))\n",
        "for i in range(len(X_train)):\n",
        "    if i % 50 == 0: print(i)\n",
        "    predictions_g[i] = model.predict_structure(X_train[i]).ravel()\n",
        "df2['graph'] = predictions_g"
      ],
      "metadata": {
        "id": "nffkWbLjHp18"
      },
      "execution_count": null,
      "outputs": []
    },
    {
      "cell_type": "code",
      "source": [
        "df2"
      ],
      "metadata": {
        "colab": {
          "base_uri": "https://localhost:8080/",
          "height": 497
        },
        "id": "_dkX5pulHST2",
        "outputId": "b2560550-644c-4161-a0d4-b789b87f246b"
      },
      "execution_count": 11,
      "outputs": [
        {
          "output_type": "execute_result",
          "data": {
            "text/plain": [
              "      MagpieData mean AtomicWeight  MagpieData mean MeltingT  \\\n",
              "8                        77.796450               1382.655000   \n",
              "9                       190.406740               1859.163333   \n",
              "24                       43.163400               1976.976667   \n",
              "25                      112.501400                698.143333   \n",
              "26                      123.386835               1213.965000   \n",
              "...                            ...                       ...   \n",
              "3387                    152.968000               3172.666667   \n",
              "3388                    141.879850               2784.950000   \n",
              "3389                     65.380000                692.680000   \n",
              "3390                     73.994667               1171.120000   \n",
              "3391                     91.224000               2128.000000   \n",
              "\n",
              "      MagpieData mean Electronegativity  MagpieData mean NdValence  \\\n",
              "8                              1.568333                   1.666667   \n",
              "9                              1.555000                   4.666667   \n",
              "24                             2.003333                   3.333333   \n",
              "25                             1.830000                  10.000000   \n",
              "26                             1.515000                   5.500000   \n",
              "...                                 ...                        ...   \n",
              "3387                           2.016667                   3.333333   \n",
              "3388                           2.630000                   3.000000   \n",
              "3389                           1.650000                  10.000000   \n",
              "3390                           1.543333                   7.333333   \n",
              "3391                           1.330000                   2.000000   \n",
              "\n",
              "      MagpieData mean GSvolume_pa  MagpieData mean SpaceGroupNumber  \\\n",
              "8                       34.138333                        227.333333   \n",
              "9                       26.703333                        225.000000   \n",
              "24                      10.225000                        185.666667   \n",
              "25                      21.616667                        167.666667   \n",
              "26                      26.613750                        209.500000   \n",
              "...                           ...                               ...   \n",
              "3387                    18.431667                        217.333333   \n",
              "3388                    14.313750                        174.750000   \n",
              "3389                    13.960000                        194.000000   \n",
              "3390                    17.038333                        194.000000   \n",
              "3391                    23.195000                        194.000000   \n",
              "\n",
              "      MagpieData mean NdUnfilled     graph  \n",
              "8                       0.000000  0.999839  \n",
              "9                       5.333333  0.999543  \n",
              "24                      0.000000  0.999195  \n",
              "25                      0.000000  1.000557  \n",
              "26                      4.500000  0.998361  \n",
              "...                          ...       ...  \n",
              "3387                    6.666667  0.996204  \n",
              "3388                    4.500000  0.995013  \n",
              "3389                    0.000000  0.997695  \n",
              "3390                    2.666667  0.997821  \n",
              "3391                    8.000000  1.000353  \n",
              "\n",
              "[1166 rows x 8 columns]"
            ],
            "text/html": [
              "\n",
              "  <div id=\"df-e0612fc9-c3ef-4852-b966-02060673f08e\">\n",
              "    <div class=\"colab-df-container\">\n",
              "      <div>\n",
              "<style scoped>\n",
              "    .dataframe tbody tr th:only-of-type {\n",
              "        vertical-align: middle;\n",
              "    }\n",
              "\n",
              "    .dataframe tbody tr th {\n",
              "        vertical-align: top;\n",
              "    }\n",
              "\n",
              "    .dataframe thead th {\n",
              "        text-align: right;\n",
              "    }\n",
              "</style>\n",
              "<table border=\"1\" class=\"dataframe\">\n",
              "  <thead>\n",
              "    <tr style=\"text-align: right;\">\n",
              "      <th></th>\n",
              "      <th>MagpieData mean AtomicWeight</th>\n",
              "      <th>MagpieData mean MeltingT</th>\n",
              "      <th>MagpieData mean Electronegativity</th>\n",
              "      <th>MagpieData mean NdValence</th>\n",
              "      <th>MagpieData mean GSvolume_pa</th>\n",
              "      <th>MagpieData mean SpaceGroupNumber</th>\n",
              "      <th>MagpieData mean NdUnfilled</th>\n",
              "      <th>graph</th>\n",
              "    </tr>\n",
              "  </thead>\n",
              "  <tbody>\n",
              "    <tr>\n",
              "      <th>8</th>\n",
              "      <td>77.796450</td>\n",
              "      <td>1382.655000</td>\n",
              "      <td>1.568333</td>\n",
              "      <td>1.666667</td>\n",
              "      <td>34.138333</td>\n",
              "      <td>227.333333</td>\n",
              "      <td>0.000000</td>\n",
              "      <td>0.999839</td>\n",
              "    </tr>\n",
              "    <tr>\n",
              "      <th>9</th>\n",
              "      <td>190.406740</td>\n",
              "      <td>1859.163333</td>\n",
              "      <td>1.555000</td>\n",
              "      <td>4.666667</td>\n",
              "      <td>26.703333</td>\n",
              "      <td>225.000000</td>\n",
              "      <td>5.333333</td>\n",
              "      <td>0.999543</td>\n",
              "    </tr>\n",
              "    <tr>\n",
              "      <th>24</th>\n",
              "      <td>43.163400</td>\n",
              "      <td>1976.976667</td>\n",
              "      <td>2.003333</td>\n",
              "      <td>3.333333</td>\n",
              "      <td>10.225000</td>\n",
              "      <td>185.666667</td>\n",
              "      <td>0.000000</td>\n",
              "      <td>0.999195</td>\n",
              "    </tr>\n",
              "    <tr>\n",
              "      <th>25</th>\n",
              "      <td>112.501400</td>\n",
              "      <td>698.143333</td>\n",
              "      <td>1.830000</td>\n",
              "      <td>10.000000</td>\n",
              "      <td>21.616667</td>\n",
              "      <td>167.666667</td>\n",
              "      <td>0.000000</td>\n",
              "      <td>1.000557</td>\n",
              "    </tr>\n",
              "    <tr>\n",
              "      <th>26</th>\n",
              "      <td>123.386835</td>\n",
              "      <td>1213.965000</td>\n",
              "      <td>1.515000</td>\n",
              "      <td>5.500000</td>\n",
              "      <td>26.613750</td>\n",
              "      <td>209.500000</td>\n",
              "      <td>4.500000</td>\n",
              "      <td>0.998361</td>\n",
              "    </tr>\n",
              "    <tr>\n",
              "      <th>...</th>\n",
              "      <td>...</td>\n",
              "      <td>...</td>\n",
              "      <td>...</td>\n",
              "      <td>...</td>\n",
              "      <td>...</td>\n",
              "      <td>...</td>\n",
              "      <td>...</td>\n",
              "      <td>...</td>\n",
              "    </tr>\n",
              "    <tr>\n",
              "      <th>3387</th>\n",
              "      <td>152.968000</td>\n",
              "      <td>3172.666667</td>\n",
              "      <td>2.016667</td>\n",
              "      <td>3.333333</td>\n",
              "      <td>18.431667</td>\n",
              "      <td>217.333333</td>\n",
              "      <td>6.666667</td>\n",
              "      <td>0.996204</td>\n",
              "    </tr>\n",
              "    <tr>\n",
              "      <th>3388</th>\n",
              "      <td>141.879850</td>\n",
              "      <td>2784.950000</td>\n",
              "      <td>2.630000</td>\n",
              "      <td>3.000000</td>\n",
              "      <td>14.313750</td>\n",
              "      <td>174.750000</td>\n",
              "      <td>4.500000</td>\n",
              "      <td>0.995013</td>\n",
              "    </tr>\n",
              "    <tr>\n",
              "      <th>3389</th>\n",
              "      <td>65.380000</td>\n",
              "      <td>692.680000</td>\n",
              "      <td>1.650000</td>\n",
              "      <td>10.000000</td>\n",
              "      <td>13.960000</td>\n",
              "      <td>194.000000</td>\n",
              "      <td>0.000000</td>\n",
              "      <td>0.997695</td>\n",
              "    </tr>\n",
              "    <tr>\n",
              "      <th>3390</th>\n",
              "      <td>73.994667</td>\n",
              "      <td>1171.120000</td>\n",
              "      <td>1.543333</td>\n",
              "      <td>7.333333</td>\n",
              "      <td>17.038333</td>\n",
              "      <td>194.000000</td>\n",
              "      <td>2.666667</td>\n",
              "      <td>0.997821</td>\n",
              "    </tr>\n",
              "    <tr>\n",
              "      <th>3391</th>\n",
              "      <td>91.224000</td>\n",
              "      <td>2128.000000</td>\n",
              "      <td>1.330000</td>\n",
              "      <td>2.000000</td>\n",
              "      <td>23.195000</td>\n",
              "      <td>194.000000</td>\n",
              "      <td>8.000000</td>\n",
              "      <td>1.000353</td>\n",
              "    </tr>\n",
              "  </tbody>\n",
              "</table>\n",
              "<p>1166 rows × 8 columns</p>\n",
              "</div>\n",
              "      <button class=\"colab-df-convert\" onclick=\"convertToInteractive('df-e0612fc9-c3ef-4852-b966-02060673f08e')\"\n",
              "              title=\"Convert this dataframe to an interactive table.\"\n",
              "              style=\"display:none;\">\n",
              "        \n",
              "  <svg xmlns=\"http://www.w3.org/2000/svg\" height=\"24px\"viewBox=\"0 0 24 24\"\n",
              "       width=\"24px\">\n",
              "    <path d=\"M0 0h24v24H0V0z\" fill=\"none\"/>\n",
              "    <path d=\"M18.56 5.44l.94 2.06.94-2.06 2.06-.94-2.06-.94-.94-2.06-.94 2.06-2.06.94zm-11 1L8.5 8.5l.94-2.06 2.06-.94-2.06-.94L8.5 2.5l-.94 2.06-2.06.94zm10 10l.94 2.06.94-2.06 2.06-.94-2.06-.94-.94-2.06-.94 2.06-2.06.94z\"/><path d=\"M17.41 7.96l-1.37-1.37c-.4-.4-.92-.59-1.43-.59-.52 0-1.04.2-1.43.59L10.3 9.45l-7.72 7.72c-.78.78-.78 2.05 0 2.83L4 21.41c.39.39.9.59 1.41.59.51 0 1.02-.2 1.41-.59l7.78-7.78 2.81-2.81c.8-.78.8-2.07 0-2.86zM5.41 20L4 18.59l7.72-7.72 1.47 1.35L5.41 20z\"/>\n",
              "  </svg>\n",
              "      </button>\n",
              "      \n",
              "  <style>\n",
              "    .colab-df-container {\n",
              "      display:flex;\n",
              "      flex-wrap:wrap;\n",
              "      gap: 12px;\n",
              "    }\n",
              "\n",
              "    .colab-df-convert {\n",
              "      background-color: #E8F0FE;\n",
              "      border: none;\n",
              "      border-radius: 50%;\n",
              "      cursor: pointer;\n",
              "      display: none;\n",
              "      fill: #1967D2;\n",
              "      height: 32px;\n",
              "      padding: 0 0 0 0;\n",
              "      width: 32px;\n",
              "    }\n",
              "\n",
              "    .colab-df-convert:hover {\n",
              "      background-color: #E2EBFA;\n",
              "      box-shadow: 0px 1px 2px rgba(60, 64, 67, 0.3), 0px 1px 3px 1px rgba(60, 64, 67, 0.15);\n",
              "      fill: #174EA6;\n",
              "    }\n",
              "\n",
              "    [theme=dark] .colab-df-convert {\n",
              "      background-color: #3B4455;\n",
              "      fill: #D2E3FC;\n",
              "    }\n",
              "\n",
              "    [theme=dark] .colab-df-convert:hover {\n",
              "      background-color: #434B5C;\n",
              "      box-shadow: 0px 1px 3px 1px rgba(0, 0, 0, 0.15);\n",
              "      filter: drop-shadow(0px 1px 2px rgba(0, 0, 0, 0.3));\n",
              "      fill: #FFFFFF;\n",
              "    }\n",
              "  </style>\n",
              "\n",
              "      <script>\n",
              "        const buttonEl =\n",
              "          document.querySelector('#df-e0612fc9-c3ef-4852-b966-02060673f08e button.colab-df-convert');\n",
              "        buttonEl.style.display =\n",
              "          google.colab.kernel.accessAllowed ? 'block' : 'none';\n",
              "\n",
              "        async function convertToInteractive(key) {\n",
              "          const element = document.querySelector('#df-e0612fc9-c3ef-4852-b966-02060673f08e');\n",
              "          const dataTable =\n",
              "            await google.colab.kernel.invokeFunction('convertToInteractive',\n",
              "                                                     [key], {});\n",
              "          if (!dataTable) return;\n",
              "\n",
              "          const docLinkHtml = 'Like what you see? Visit the ' +\n",
              "            '<a target=\"_blank\" href=https://colab.research.google.com/notebooks/data_table.ipynb>data table notebook</a>'\n",
              "            + ' to learn more about interactive tables.';\n",
              "          element.innerHTML = '';\n",
              "          dataTable['output_type'] = 'display_data';\n",
              "          await google.colab.output.renderOutput(dataTable, element);\n",
              "          const docLink = document.createElement('div');\n",
              "          docLink.innerHTML = docLinkHtml;\n",
              "          element.appendChild(docLink);\n",
              "        }\n",
              "      </script>\n",
              "    </div>\n",
              "  </div>\n",
              "  "
            ]
          },
          "metadata": {},
          "execution_count": 11
        }
      ]
    },
    {
      "cell_type": "code",
      "source": [
        "X_train, X_test, y_train, y_test = train_test_split(df2, pd.DataFrame(targets2), test_size=0.2, random_state=85)\n",
        "\n",
        "param_grid_rfr = { \n",
        "            \"n_estimators\"      : [30, 100, 300],\n",
        "            \"max_features\"      : [\"auto\", \"sqrt\", \"log2\"],\n",
        "            \"min_samples_split\" : [2,4,8],\n",
        "            \"bootstrap\": [True, False],\n",
        "            }\n",
        "rfr = RandomForestRegressor()\n",
        "CV_rfr = GridSearchCV(estimator = rfr, param_grid = param_grid_rfr, cv = 7)\n",
        "CV_rfr.fit(X_train, y_train.values.ravel())"
      ],
      "metadata": {
        "id": "iWsaBL0eTDbd"
      },
      "execution_count": null,
      "outputs": []
    },
    {
      "cell_type": "code",
      "source": [
        "CV_rfr.best_params_"
      ],
      "metadata": {
        "colab": {
          "base_uri": "https://localhost:8080/"
        },
        "id": "RiTpu9GHWah4",
        "outputId": "6109c3a0-1770-448a-cb64-b308ae3fde42"
      },
      "execution_count": null,
      "outputs": [
        {
          "output_type": "execute_result",
          "data": {
            "text/plain": [
              "{'bootstrap': True,\n",
              " 'max_features': 'log2',\n",
              " 'min_samples_split': 2,\n",
              " 'n_estimators': 30}"
            ]
          },
          "metadata": {},
          "execution_count": 76
        }
      ]
    },
    {
      "cell_type": "code",
      "source": [
        "rfr1 = RandomForestRegressor(max_features = 'log2', min_samples_split = 2, bootstrap = True, n_estimators = 30)\n",
        "rfr1.fit(X_train, y_train.values.ravel())\n",
        "predictions = rfr1.predict(X_test)\n",
        "predictions1 = rfr1.predict(X_train)\n",
        "score = cross_val_score(rfr1, X_test, y_test, scoring='neg_mean_squared_error', cv = 5)"
      ],
      "metadata": {
        "id": "2w8sU1E4TDoY"
      },
      "execution_count": null,
      "outputs": []
    },
    {
      "cell_type": "code",
      "source": [
        "from sklearn.model_selection import learning_curve\n",
        "train_size_abs, train_scores, test_scores = learning_curve(rfr1, df2, pd.DataFrame(targets2).values.ravel(),\n",
        "                                                           train_sizes=[0.1, 0.2, 0.3, 0.4, 0.5, 0.6, 0.7, 0.8, 0.9])\n",
        "\n",
        "for train_size, cv_train_scores, cv_test_scores in zip(train_size_abs, train_scores, test_scores):\n",
        "    print(f\"{train_size} samples were used to train the model\")\n",
        "    print(f\"The average train accuracy is {cv_train_scores.mean():.2f}\")\n",
        "    print(f\"The average test accuracy is {cv_test_scores.mean():.2f}\")\n",
        "    print()\n",
        "\n",
        "fig, ax = plt.subplots()\n",
        "ax.grid()\n",
        "\n",
        "plt.plot([0, 1000], [0, 0], color = 'black', alpha = 0.3)\n",
        "plt.plot(train_size_abs, train_scores.mean(axis = 1), color = 'blue', label=r'Train', linewidth = 3)\n",
        "plt.plot(train_size_abs, test_scores.mean(axis = 1), color = 'red', label=r'Test', linewidth = 3)\n",
        "ax.set_xlabel('Sample size')\n",
        "ax.set_ylabel('Score')\n",
        "plt.title(\"Learning curve\")\n",
        "plt.grid(True)\n",
        "plt.legend(loc='best', fontsize=12)\n",
        "plt.show()\n",
        "#plt.ylim((0, 4))\n",
        "plt.show()"
      ],
      "metadata": {
        "colab": {
          "base_uri": "https://localhost:8080/",
          "height": 907
        },
        "id": "cg88vQnV_WLr",
        "outputId": "eff83d9a-2411-4254-8c46-d2e48535421b"
      },
      "execution_count": 16,
      "outputs": [
        {
          "output_type": "stream",
          "name": "stdout",
          "text": [
            "93 samples were used to train the model\n",
            "The average train accuracy is 0.90\n",
            "The average test accuracy is -0.45\n",
            "\n",
            "186 samples were used to train the model\n",
            "The average train accuracy is 0.88\n",
            "The average test accuracy is -0.29\n",
            "\n",
            "279 samples were used to train the model\n",
            "The average train accuracy is 0.89\n",
            "The average test accuracy is -0.31\n",
            "\n",
            "372 samples were used to train the model\n",
            "The average train accuracy is 0.88\n",
            "The average test accuracy is -0.31\n",
            "\n",
            "466 samples were used to train the model\n",
            "The average train accuracy is 0.89\n",
            "The average test accuracy is -0.15\n",
            "\n",
            "559 samples were used to train the model\n",
            "The average train accuracy is 0.89\n",
            "The average test accuracy is -0.08\n",
            "\n",
            "652 samples were used to train the model\n",
            "The average train accuracy is 0.89\n",
            "The average test accuracy is -0.10\n",
            "\n",
            "745 samples were used to train the model\n",
            "The average train accuracy is 0.88\n",
            "The average test accuracy is -0.04\n",
            "\n",
            "838 samples were used to train the model\n",
            "The average train accuracy is 0.88\n",
            "The average test accuracy is -0.03\n",
            "\n"
          ]
        },
        {
          "output_type": "display_data",
          "data": {
            "text/plain": [
              "<Figure size 432x288 with 1 Axes>"
            ],
            "image/png": "[encoded data removed]"
          },
          "metadata": {
            "needs_background": "light"
          }
        }
      ]
    },
    {
      "cell_type": "code",
      "source": [
        "fig, ax = plt.subplots()\n",
        "ax.grid()\n",
        "\n",
        "\n",
        "plt.scatter(np.log(y_train), np.log(predictions1), color = 'blue', alpha = 0.05)\n",
        "plt.plot(np.log(y_train), np.log(y_train), color = 'black', linewidth = 3, alpha = 0.1)\n",
        "ax.set_xlabel('measured $ln T_c$')\n",
        "ax.set_ylabel('predicted $ln T_c$')\n",
        "plt.title(\"На тренировочной выборке\")\n",
        "#plt.ylim((0, 4))\n",
        "plt.show()\n",
        "\n",
        "plt.grid()\n",
        "plt.scatter(np.log(y_test), np.log(predictions), color = 'red', alpha = 0.05)\n",
        "plt.plot(np.log(y_test), np.log(y_test), color = 'black', linewidth = 3, alpha = 0.1)\n",
        "plt.xlabel('measured $ln T_c$')\n",
        "plt.ylabel('predicted $ln T_c$')\n",
        "plt.title(\"На тестовой выборке\")\n",
        "#plt.ylim((0, 4))\n",
        "plt.show()"
      ],
      "metadata": {
        "colab": {
          "base_uri": "https://localhost:8080/",
          "height": 581
        },
        "id": "ZbGq2aUALoEO",
        "outputId": "6cd78d5c-a420-48f3-b23e-dd28cd82052e"
      },
      "execution_count": 15,
      "outputs": [
        {
          "output_type": "display_data",
          "data": {
            "text/plain": [
              "<Figure size 432x288 with 1 Axes>"
            ],
            "image/png": "[encoded data removed]"
          },
          "metadata": {
            "needs_background": "light"
          }
        },
        {
          "output_type": "display_data",
          "data": {
            "text/plain": [
              "<Figure size 432x288 with 1 Axes>"
            ],
            "image/png": "[encoded data removed]"
          },
          "metadata": {
            "needs_background": "light"
          }
        }
      ]
    }
  ]
}