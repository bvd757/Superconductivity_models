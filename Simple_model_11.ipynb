{
  "nbformat": 4,
  "nbformat_minor": 0,
  "metadata": {
    "colab": {
      "provenance": []
    },
    "kernelspec": {
      "name": "python3",
      "display_name": "Python 3"
    },
    "language_info": {
      "name": "python"
    },
    "gpuClass": "standard",
    "widgets": {
      "application/vnd.jupyter.widget-state+json": {
        "573a5ce23b444941a7e83866d40f0fc0": {
          "model_module": "@jupyter-widgets/controls",
          "model_name": "HBoxModel",
          "model_module_version": "1.5.0",
          "state": {
            "_dom_classes": [],
            "_model_module": "@jupyter-widgets/controls",
            "_model_module_version": "1.5.0",
            "_model_name": "HBoxModel",
            "_view_count": null,
            "_view_module": "@jupyter-widgets/controls",
            "_view_module_version": "1.5.0",
            "_view_name": "HBoxView",
            "box_style": "",
            "children": [
              "IPY_MODEL_6e2b0923ac1647ba951fc5e86424e54d",
              "IPY_MODEL_d6a92d6f8bf0479495f0137410c0e2df",
              "IPY_MODEL_9b3eaf1366ce4ba9af306eeab0d11dd1"
            ],
            "layout": "IPY_MODEL_70bb5281c8d442619189bf91bd5258c7"
          }
        },
        "6e2b0923ac1647ba951fc5e86424e54d": {
          "model_module": "@jupyter-widgets/controls",
          "model_name": "HTMLModel",
          "model_module_version": "1.5.0",
          "state": {
            "_dom_classes": [],
            "_model_module": "@jupyter-widgets/controls",
            "_model_module_version": "1.5.0",
            "_model_name": "HTMLModel",
            "_view_count": null,
            "_view_module": "@jupyter-widgets/controls",
            "_view_module_version": "1.5.0",
            "_view_name": "HTMLView",
            "description": "",
            "description_tooltip": null,
            "layout": "IPY_MODEL_ed9d497597d84c94b123d5456102eef0",
            "placeholder": "​",
            "style": "IPY_MODEL_f259f4c576c442af94042aaac3e6048d",
            "value": "StrToComposition: 100%"
          }
        },
        "d6a92d6f8bf0479495f0137410c0e2df": {
          "model_module": "@jupyter-widgets/controls",
          "model_name": "FloatProgressModel",
          "model_module_version": "1.5.0",
          "state": {
            "_dom_classes": [],
            "_model_module": "@jupyter-widgets/controls",
            "_model_module_version": "1.5.0",
            "_model_name": "FloatProgressModel",
            "_view_count": null,
            "_view_module": "@jupyter-widgets/controls",
            "_view_module_version": "1.5.0",
            "_view_name": "ProgressView",
            "bar_style": "success",
            "description": "",
            "description_tooltip": null,
            "layout": "IPY_MODEL_9649b931609042349e1fd0be5985e90b",
            "max": 3347,
            "min": 0,
            "orientation": "horizontal",
            "style": "IPY_MODEL_86a93f7aa4bd4b5ba21f351b2c3bbef3",
            "value": 3347
          }
        },
        "9b3eaf1366ce4ba9af306eeab0d11dd1": {
          "model_module": "@jupyter-widgets/controls",
          "model_name": "HTMLModel",
          "model_module_version": "1.5.0",
          "state": {
            "_dom_classes": [],
            "_model_module": "@jupyter-widgets/controls",
            "_model_module_version": "1.5.0",
            "_model_name": "HTMLModel",
            "_view_count": null,
            "_view_module": "@jupyter-widgets/controls",
            "_view_module_version": "1.5.0",
            "_view_name": "HTMLView",
            "description": "",
            "description_tooltip": null,
            "layout": "IPY_MODEL_6538adb33a8b4e439fe25f66d9794740",
            "placeholder": "​",
            "style": "IPY_MODEL_f09f3218ab3448b4a9e22ec7fb81e103",
            "value": " 3347/3347 [01:14&lt;00:00, 59.19it/s]"
          }
        },
        "70bb5281c8d442619189bf91bd5258c7": {
          "model_module": "@jupyter-widgets/base",
          "model_name": "LayoutModel",
          "model_module_version": "1.2.0",
          "state": {
            "_model_module": "@jupyter-widgets/base",
            "_model_module_version": "1.2.0",
            "_model_name": "LayoutModel",
            "_view_count": null,
            "_view_module": "@jupyter-widgets/base",
            "_view_module_version": "1.2.0",
            "_view_name": "LayoutView",
            "align_content": null,
            "align_items": null,
            "align_self": null,
            "border": null,
            "bottom": null,
            "display": null,
            "flex": null,
            "flex_flow": null,
            "grid_area": null,
            "grid_auto_columns": null,
            "grid_auto_flow": null,
            "grid_auto_rows": null,
            "grid_column": null,
            "grid_gap": null,
            "grid_row": null,
            "grid_template_areas": null,
            "grid_template_columns": null,
            "grid_template_rows": null,
            "height": null,
            "justify_content": null,
            "justify_items": null,
            "left": null,
            "margin": null,
            "max_height": null,
            "max_width": null,
            "min_height": null,
            "min_width": null,
            "object_fit": null,
            "object_position": null,
            "order": null,
            "overflow": null,
            "overflow_x": null,
            "overflow_y": null,
            "padding": null,
            "right": null,
            "top": null,
            "visibility": null,
            "width": null
          }
        },
        "ed9d497597d84c94b123d5456102eef0": {
          "model_module": "@jupyter-widgets/base",
          "model_name": "LayoutModel",
          "model_module_version": "1.2.0",
          "state": {
            "_model_module": "@jupyter-widgets/base",
            "_model_module_version": "1.2.0",
            "_model_name": "LayoutModel",
            "_view_count": null,
            "_view_module": "@jupyter-widgets/base",
            "_view_module_version": "1.2.0",
            "_view_name": "LayoutView",
            "align_content": null,
            "align_items": null,
            "align_self": null,
            "border": null,
            "bottom": null,
            "display": null,
            "flex": null,
            "flex_flow": null,
            "grid_area": null,
            "grid_auto_columns": null,
            "grid_auto_flow": null,
            "grid_auto_rows": null,
            "grid_column": null,
            "grid_gap": null,
            "grid_row": null,
            "grid_template_areas": null,
            "grid_template_columns": null,
            "grid_template_rows": null,
            "height": null,
            "justify_content": null,
            "justify_items": null,
            "left": null,
            "margin": null,
            "max_height": null,
            "max_width": null,
            "min_height": null,
            "min_width": null,
            "object_fit": null,
            "object_position": null,
            "order": null,
            "overflow": null,
            "overflow_x": null,
            "overflow_y": null,
            "padding": null,
            "right": null,
            "top": null,
            "visibility": null,
            "width": null
          }
        },
        "f259f4c576c442af94042aaac3e6048d": {
          "model_module": "@jupyter-widgets/controls",
          "model_name": "DescriptionStyleModel",
          "model_module_version": "1.5.0",
          "state": {
            "_model_module": "@jupyter-widgets/controls",
            "_model_module_version": "1.5.0",
            "_model_name": "DescriptionStyleModel",
            "_view_count": null,
            "_view_module": "@jupyter-widgets/base",
            "_view_module_version": "1.2.0",
            "_view_name": "StyleView",
            "description_width": ""
          }
        },
        "9649b931609042349e1fd0be5985e90b": {
          "model_module": "@jupyter-widgets/base",
          "model_name": "LayoutModel",
          "model_module_version": "1.2.0",
          "state": {
            "_model_module": "@jupyter-widgets/base",
            "_model_module_version": "1.2.0",
            "_model_name": "LayoutModel",
            "_view_count": null,
            "_view_module": "@jupyter-widgets/base",
            "_view_module_version": "1.2.0",
            "_view_name": "LayoutView",
            "align_content": null,
            "align_items": null,
            "align_self": null,
            "border": null,
            "bottom": null,
            "display": null,
            "flex": null,
            "flex_flow": null,
            "grid_area": null,
            "grid_auto_columns": null,
            "grid_auto_flow": null,
            "grid_auto_rows": null,
            "grid_column": null,
            "grid_gap": null,
            "grid_row": null,
            "grid_template_areas": null,
            "grid_template_columns": null,
            "grid_template_rows": null,
            "height": null,
            "justify_content": null,
            "justify_items": null,
            "left": null,
            "margin": null,
            "max_height": null,
            "max_width": null,
            "min_height": null,
            "min_width": null,
            "object_fit": null,
            "object_position": null,
            "order": null,
            "overflow": null,
            "overflow_x": null,
            "overflow_y": null,
            "padding": null,
            "right": null,
            "top": null,
            "visibility": null,
            "width": null
          }
        },
        "86a93f7aa4bd4b5ba21f351b2c3bbef3": {
          "model_module": "@jupyter-widgets/controls",
          "model_name": "ProgressStyleModel",
          "model_module_version": "1.5.0",
          "state": {
            "_model_module": "@jupyter-widgets/controls",
            "_model_module_version": "1.5.0",
            "_model_name": "ProgressStyleModel",
            "_view_count": null,
            "_view_module": "@jupyter-widgets/base",
            "_view_module_version": "1.2.0",
            "_view_name": "StyleView",
            "bar_color": null,
            "description_width": ""
          }
        },
        "6538adb33a8b4e439fe25f66d9794740": {
          "model_module": "@jupyter-widgets/base",
          "model_name": "LayoutModel",
          "model_module_version": "1.2.0",
          "state": {
            "_model_module": "@jupyter-widgets/base",
            "_model_module_version": "1.2.0",
            "_model_name": "LayoutModel",
            "_view_count": null,
            "_view_module": "@jupyter-widgets/base",
            "_view_module_version": "1.2.0",
            "_view_name": "LayoutView",
            "align_content": null,
            "align_items": null,
            "align_self": null,
            "border": null,
            "bottom": null,
            "display": null,
            "flex": null,
            "flex_flow": null,
            "grid_area": null,
            "grid_auto_columns": null,
            "grid_auto_flow": null,
            "grid_auto_rows": null,
            "grid_column": null,
            "grid_gap": null,
            "grid_row": null,
            "grid_template_areas": null,
            "grid_template_columns": null,
            "grid_template_rows": null,
            "height": null,
            "justify_content": null,
            "justify_items": null,
            "left": null,
            "margin": null,
            "max_height": null,
            "max_width": null,
            "min_height": null,
            "min_width": null,
            "object_fit": null,
            "object_position": null,
            "order": null,
            "overflow": null,
            "overflow_x": null,
            "overflow_y": null,
            "padding": null,
            "right": null,
            "top": null,
            "visibility": null,
            "width": null
          }
        },
        "f09f3218ab3448b4a9e22ec7fb81e103": {
          "model_module": "@jupyter-widgets/controls",
          "model_name": "DescriptionStyleModel",
          "model_module_version": "1.5.0",
          "state": {
            "_model_module": "@jupyter-widgets/controls",
            "_model_module_version": "1.5.0",
            "_model_name": "DescriptionStyleModel",
            "_view_count": null,
            "_view_module": "@jupyter-widgets/base",
            "_view_module_version": "1.2.0",
            "_view_name": "StyleView",
            "description_width": ""
          }
        },
        "bafc55ee4b2647c5988322c786449cad": {
          "model_module": "@jupyter-widgets/controls",
          "model_name": "HBoxModel",
          "model_module_version": "1.5.0",
          "state": {
            "_dom_classes": [],
            "_model_module": "@jupyter-widgets/controls",
            "_model_module_version": "1.5.0",
            "_model_name": "HBoxModel",
            "_view_count": null,
            "_view_module": "@jupyter-widgets/controls",
            "_view_module_version": "1.5.0",
            "_view_name": "HBoxView",
            "box_style": "",
            "children": [
              "IPY_MODEL_380544c3964d45b58d2df99a501e762b",
              "IPY_MODEL_716834815bed42339ddb38e82a3e3a8f",
              "IPY_MODEL_05873987a6034e2eb2cdc47a3bdaf080"
            ],
            "layout": "IPY_MODEL_fdd7e6afc67443949167ecb2436de87a"
          }
        },
        "380544c3964d45b58d2df99a501e762b": {
          "model_module": "@jupyter-widgets/controls",
          "model_name": "HTMLModel",
          "model_module_version": "1.5.0",
          "state": {
            "_dom_classes": [],
            "_model_module": "@jupyter-widgets/controls",
            "_model_module_version": "1.5.0",
            "_model_name": "HTMLModel",
            "_view_count": null,
            "_view_module": "@jupyter-widgets/controls",
            "_view_module_version": "1.5.0",
            "_view_name": "HTMLView",
            "description": "",
            "description_tooltip": null,
            "layout": "IPY_MODEL_74096f75466e421aadc37b5365098011",
            "placeholder": "​",
            "style": "IPY_MODEL_ebc00f61137249f8b39c94c1888abcc9",
            "value": "ElementProperty: 100%"
          }
        },
        "716834815bed42339ddb38e82a3e3a8f": {
          "model_module": "@jupyter-widgets/controls",
          "model_name": "FloatProgressModel",
          "model_module_version": "1.5.0",
          "state": {
            "_dom_classes": [],
            "_model_module": "@jupyter-widgets/controls",
            "_model_module_version": "1.5.0",
            "_model_name": "FloatProgressModel",
            "_view_count": null,
            "_view_module": "@jupyter-widgets/controls",
            "_view_module_version": "1.5.0",
            "_view_name": "ProgressView",
            "bar_style": "success",
            "description": "",
            "description_tooltip": null,
            "layout": "IPY_MODEL_b25cd5b821614a80bbdf9e93cec119d0",
            "max": 3347,
            "min": 0,
            "orientation": "horizontal",
            "style": "IPY_MODEL_5891f0a9b72f43ea8809594464e2fe04",
            "value": 3347
          }
        },
        "05873987a6034e2eb2cdc47a3bdaf080": {
          "model_module": "@jupyter-widgets/controls",
          "model_name": "HTMLModel",
          "model_module_version": "1.5.0",
          "state": {
            "_dom_classes": [],
            "_model_module": "@jupyter-widgets/controls",
            "_model_module_version": "1.5.0",
            "_model_name": "HTMLModel",
            "_view_count": null,
            "_view_module": "@jupyter-widgets/controls",
            "_view_module_version": "1.5.0",
            "_view_name": "HTMLView",
            "description": "",
            "description_tooltip": null,
            "layout": "IPY_MODEL_cec71cffabd64dd0928a48036e5b5745",
            "placeholder": "​",
            "style": "IPY_MODEL_a2fb093761b9418d984642aed02f6ed9",
            "value": " 3347/3347 [03:20&lt;00:00, 17.58it/s]"
          }
        },
        "fdd7e6afc67443949167ecb2436de87a": {
          "model_module": "@jupyter-widgets/base",
          "model_name": "LayoutModel",
          "model_module_version": "1.2.0",
          "state": {
            "_model_module": "@jupyter-widgets/base",
            "_model_module_version": "1.2.0",
            "_model_name": "LayoutModel",
            "_view_count": null,
            "_view_module": "@jupyter-widgets/base",
            "_view_module_version": "1.2.0",
            "_view_name": "LayoutView",
            "align_content": null,
            "align_items": null,
            "align_self": null,
            "border": null,
            "bottom": null,
            "display": null,
            "flex": null,
            "flex_flow": null,
            "grid_area": null,
            "grid_auto_columns": null,
            "grid_auto_flow": null,
            "grid_auto_rows": null,
            "grid_column": null,
            "grid_gap": null,
            "grid_row": null,
            "grid_template_areas": null,
            "grid_template_columns": null,
            "grid_template_rows": null,
            "height": null,
            "justify_content": null,
            "justify_items": null,
            "left": null,
            "margin": null,
            "max_height": null,
            "max_width": null,
            "min_height": null,
            "min_width": null,
            "object_fit": null,
            "object_position": null,
            "order": null,
            "overflow": null,
            "overflow_x": null,
            "overflow_y": null,
            "padding": null,
            "right": null,
            "top": null,
            "visibility": null,
            "width": null
          }
        },
        "74096f75466e421aadc37b5365098011": {
          "model_module": "@jupyter-widgets/base",
          "model_name": "LayoutModel",
          "model_module_version": "1.2.0",
          "state": {
            "_model_module": "@jupyter-widgets/base",
            "_model_module_version": "1.2.0",
            "_model_name": "LayoutModel",
            "_view_count": null,
            "_view_module": "@jupyter-widgets/base",
            "_view_module_version": "1.2.0",
            "_view_name": "LayoutView",
            "align_content": null,
            "align_items": null,
            "align_self": null,
            "border": null,
            "bottom": null,
            "display": null,
            "flex": null,
            "flex_flow": null,
            "grid_area": null,
            "grid_auto_columns": null,
            "grid_auto_flow": null,
            "grid_auto_rows": null,
            "grid_column": null,
            "grid_gap": null,
            "grid_row": null,
            "grid_template_areas": null,
            "grid_template_columns": null,
            "grid_template_rows": null,
            "height": null,
            "justify_content": null,
            "justify_items": null,
            "left": null,
            "margin": null,
            "max_height": null,
            "max_width": null,
            "min_height": null,
            "min_width": null,
            "object_fit": null,
            "object_position": null,
            "order": null,
            "overflow": null,
            "overflow_x": null,
            "overflow_y": null,
            "padding": null,
            "right": null,
            "top": null,
            "visibility": null,
            "width": null
          }
        },
        "ebc00f61137249f8b39c94c1888abcc9": {
          "model_module": "@jupyter-widgets/controls",
          "model_name": "DescriptionStyleModel",
          "model_module_version": "1.5.0",
          "state": {
            "_model_module": "@jupyter-widgets/controls",
            "_model_module_version": "1.5.0",
            "_model_name": "DescriptionStyleModel",
            "_view_count": null,
            "_view_module": "@jupyter-widgets/base",
            "_view_module_version": "1.2.0",
            "_view_name": "StyleView",
            "description_width": ""
          }
        },
        "b25cd5b821614a80bbdf9e93cec119d0": {
          "model_module": "@jupyter-widgets/base",
          "model_name": "LayoutModel",
          "model_module_version": "1.2.0",
          "state": {
            "_model_module": "@jupyter-widgets/base",
            "_model_module_version": "1.2.0",
            "_model_name": "LayoutModel",
            "_view_count": null,
            "_view_module": "@jupyter-widgets/base",
            "_view_module_version": "1.2.0",
            "_view_name": "LayoutView",
            "align_content": null,
            "align_items": null,
            "align_self": null,
            "border": null,
            "bottom": null,
            "display": null,
            "flex": null,
            "flex_flow": null,
            "grid_area": null,
            "grid_auto_columns": null,
            "grid_auto_flow": null,
            "grid_auto_rows": null,
            "grid_column": null,
            "grid_gap": null,
            "grid_row": null,
            "grid_template_areas": null,
            "grid_template_columns": null,
            "grid_template_rows": null,
            "height": null,
            "justify_content": null,
            "justify_items": null,
            "left": null,
            "margin": null,
            "max_height": null,
            "max_width": null,
            "min_height": null,
            "min_width": null,
            "object_fit": null,
            "object_position": null,
            "order": null,
            "overflow": null,
            "overflow_x": null,
            "overflow_y": null,
            "padding": null,
            "right": null,
            "top": null,
            "visibility": null,
            "width": null
          }
        },
        "5891f0a9b72f43ea8809594464e2fe04": {
          "model_module": "@jupyter-widgets/controls",
          "model_name": "ProgressStyleModel",
          "model_module_version": "1.5.0",
          "state": {
            "_model_module": "@jupyter-widgets/controls",
            "_model_module_version": "1.5.0",
            "_model_name": "ProgressStyleModel",
            "_view_count": null,
            "_view_module": "@jupyter-widgets/base",
            "_view_module_version": "1.2.0",
            "_view_name": "StyleView",
            "bar_color": null,
            "description_width": ""
          }
        },
        "cec71cffabd64dd0928a48036e5b5745": {
          "model_module": "@jupyter-widgets/base",
          "model_name": "LayoutModel",
          "model_module_version": "1.2.0",
          "state": {
            "_model_module": "@jupyter-widgets/base",
            "_model_module_version": "1.2.0",
            "_model_name": "LayoutModel",
            "_view_count": null,
            "_view_module": "@jupyter-widgets/base",
            "_view_module_version": "1.2.0",
            "_view_name": "LayoutView",
            "align_content": null,
            "align_items": null,
            "align_self": null,
            "border": null,
            "bottom": null,
            "display": null,
            "flex": null,
            "flex_flow": null,
            "grid_area": null,
            "grid_auto_columns": null,
            "grid_auto_flow": null,
            "grid_auto_rows": null,
            "grid_column": null,
            "grid_gap": null,
            "grid_row": null,
            "grid_template_areas": null,
            "grid_template_columns": null,
            "grid_template_rows": null,
            "height": null,
            "justify_content": null,
            "justify_items": null,
            "left": null,
            "margin": null,
            "max_height": null,
            "max_width": null,
            "min_height": null,
            "min_width": null,
            "object_fit": null,
            "object_position": null,
            "order": null,
            "overflow": null,
            "overflow_x": null,
            "overflow_y": null,
            "padding": null,
            "right": null,
            "top": null,
            "visibility": null,
            "width": null
          }
        },
        "a2fb093761b9418d984642aed02f6ed9": {
          "model_module": "@jupyter-widgets/controls",
          "model_name": "DescriptionStyleModel",
          "model_module_version": "1.5.0",
          "state": {
            "_model_module": "@jupyter-widgets/controls",
            "_model_module_version": "1.5.0",
            "_model_name": "DescriptionStyleModel",
            "_view_count": null,
            "_view_module": "@jupyter-widgets/base",
            "_view_module_version": "1.2.0",
            "_view_name": "StyleView",
            "description_width": ""
          }
        }
      }
    }
  },
  "cells": [
    {
      "cell_type": "markdown",
      "source": [
        "# The simple model 11\n",
        "Доработанная сеть от Megnet, сравнение с моделью на элементных признаках"
      ],
      "metadata": {
        "id": "o0ViGCeqM43C"
      }
    },
    {
      "cell_type": "code",
      "execution_count": null,
      "metadata": {
        "id": "brxqXbwwINBJ"
      },
      "outputs": [],
      "source": [
        "import numpy as np\n",
        "import pandas as pd\n",
        "import os\n",
        "import matplotlib.pyplot as plt\n",
        "from sklearn import datasets\n",
        "from sklearn.ensemble import RandomForestRegressor\n",
        "from sklearn.model_selection import train_test_split\n",
        "from sklearn.linear_model import LinearRegression\n",
        "from sklearn.metrics import mean_squared_error, r2_score\n",
        "from sklearn.model_selection import GridSearchCV, cross_val_score\n",
        "from sklearn.ensemble import GradientBoostingClassifier\n",
        "from sklearn.pipeline import Pipeline\n",
        "\n",
        "!pip install matminer\n",
        "!pip install pymatgen\n",
        "!pip install maml\n",
        "!git clone https://github.com/bvd757/3DSC.git\n",
        "!pip install megnet\n",
        "\n",
        "from megnet.models import MEGNetModel\n",
        "from megnet.data.crystal import CrystalGraph\n",
        "\n",
        "from pymatgen.core.structure import Structure\n",
        "from maml.describers import BPSymmetryFunctions\n",
        "\n",
        "!pip install monty\n",
        "from monty.json import MontyDecoder\n",
        "from monty.serialization import loadfn\n",
        "\n",
        "from megnet.data.crystal import CrystalGraph\n",
        "from megnet.data.graph import GaussianDistance\n",
        "from megnet.models import MEGNetModel"
      ]
    },
    {
      "cell_type": "code",
      "source": [
        "data = pd.read_csv('https://raw.githubusercontent.com/aimat-lab/3DSC/main/superconductors_3D/data/final/MP/3DSC_MP.csv', header = 1)\n",
        "data1 = data.loc[data['tc'] > 0.1]\n",
        "data1 = data1.loc[data['tc'] < 30.0]\n",
        "data_t = np.log(data1[['tc']])\n",
        "data2 = data1[['formula_sc']]"
      ],
      "metadata": {
        "id": "_pGeC0hhJ7dp"
      },
      "execution_count": 45,
      "outputs": []
    },
    {
      "cell_type": "code",
      "source": [
        "from matminer.featurizers.composition import ElementProperty\n",
        "from matminer.featurizers.conversions import StrToComposition\n",
        "ep_feat = ElementProperty.from_preset(preset_name=\"magpie\")\n",
        "d = {\"element\": np.array(data2)[:, 0]}\n",
        "df = pd.DataFrame(d)\n",
        "\n",
        "df = StrToComposition().featurize_dataframe(df, \"element\")\n",
        "df = ep_feat.featurize_dataframe(df, col_id = 'composition')"
      ],
      "metadata": {
        "id": "9wkuFnjvVuDN",
        "colab": {
          "base_uri": "https://localhost:8080/",
          "height": 81,
          "referenced_widgets": [
            "573a5ce23b444941a7e83866d40f0fc0",
            "6e2b0923ac1647ba951fc5e86424e54d",
            "d6a92d6f8bf0479495f0137410c0e2df",
            "9b3eaf1366ce4ba9af306eeab0d11dd1",
            "70bb5281c8d442619189bf91bd5258c7",
            "ed9d497597d84c94b123d5456102eef0",
            "f259f4c576c442af94042aaac3e6048d",
            "9649b931609042349e1fd0be5985e90b",
            "86a93f7aa4bd4b5ba21f351b2c3bbef3",
            "6538adb33a8b4e439fe25f66d9794740",
            "f09f3218ab3448b4a9e22ec7fb81e103",
            "bafc55ee4b2647c5988322c786449cad",
            "380544c3964d45b58d2df99a501e762b",
            "716834815bed42339ddb38e82a3e3a8f",
            "05873987a6034e2eb2cdc47a3bdaf080",
            "fdd7e6afc67443949167ecb2436de87a",
            "74096f75466e421aadc37b5365098011",
            "ebc00f61137249f8b39c94c1888abcc9",
            "b25cd5b821614a80bbdf9e93cec119d0",
            "5891f0a9b72f43ea8809594464e2fe04",
            "cec71cffabd64dd0928a48036e5b5745",
            "a2fb093761b9418d984642aed02f6ed9"
          ]
        },
        "outputId": "3b0fdb13-dc97-4b72-843c-e44dee0bcd9d"
      },
      "execution_count": 47,
      "outputs": [
        {
          "output_type": "display_data",
          "data": {
            "text/plain": [
              "StrToComposition:   0%|          | 0/3347 [00:00<?, ?it/s]"
            ],
            "application/vnd.jupyter.widget-view+json": {
              "version_major": 2,
              "version_minor": 0,
              "model_id": "573a5ce23b444941a7e83866d40f0fc0"
            }
          },
          "metadata": {}
        },
        {
          "output_type": "display_data",
          "data": {
            "text/plain": [
              "ElementProperty:   0%|          | 0/3347 [00:00<?, ?it/s]"
            ],
            "application/vnd.jupyter.widget-view+json": {
              "version_major": 2,
              "version_minor": 0,
              "model_id": "bafc55ee4b2647c5988322c786449cad"
            }
          },
          "metadata": {}
        }
      ]
    },
    {
      "cell_type": "code",
      "source": [
        "structures1 = [0] * len(df)\n",
        "targets1 = [0] * len(df)\n",
        "data_t1 = np.array(data_t)\n",
        "l = len(df)\n",
        "for i in enumerate(os.listdir(path=\"/content/3DSC/superconductors_3D/data/final/MP/cifs\")):\n",
        "    if i[0] % 100 == 0: print(i[0])\n",
        "    #print(\"\\n\\n\\n\\n\\n\\n\\n\\n\\n\\n\\n\\n\\n\\n\\n\\n\\n\", i[1], \"\\n\\n\\n\\n\\n\\n\\n\\n\\n\\n\\n\\n\\n\\n\\n\\n\\n\")\n",
        "    if i[1][:i[1].find('-MP')] not in df['element'].to_list(): continue\n",
        "    j = df.loc[df['element'] == i[1][:i[1].find('-MP')]].index\n",
        "    j = j[0]\n",
        "    cif = Structure.from_file(\"/content/3DSC/superconductors_3D/data/final/MP/cifs/\" + i[1])\n",
        "    structures1[j] = cif\n",
        "    targets1[j] = data_t1[j]\n",
        "\n",
        "df1 = df[['MagpieData mean AtomicWeight', 'MagpieData mean MeltingT',\n",
        "'MagpieData mean Electronegativity', 'MagpieData mean NdValence', 'MagpieData mean GSvolume_pa', 'MagpieData mean SpaceGroupNumber', 'MagpieData mean NdUnfilled']]"
      ],
      "metadata": {
        "id": "IbojEv0ijn8j"
      },
      "execution_count": null,
      "outputs": []
    },
    {
      "cell_type": "code",
      "source": [
        "model = MEGNetModel(10, 2, nblocks=1, lr=1e-2,\n",
        "                    n1=4, n2=4, n3=4, npass=1, ntarget=1,\n",
        "                    graph_converter=CrystalGraph(bond_converter=GaussianDistance(np.linspace(0, 5, 10), 0.5)))\n",
        "model.compile(loss='mse')"
      ],
      "metadata": {
        "id": "7K4ltDgs-vps"
      },
      "execution_count": null,
      "outputs": []
    },
    {
      "cell_type": "code",
      "source": [
        "from megnet.utils.models import load_model, AVAILABLE_MODELS\n",
        "from pymatgen.core import Structure, Lattice\n",
        "from pymatgen.ext.matproj import MPRester\n",
        "print(AVAILABLE_MODELS)"
      ],
      "metadata": {
        "id": "UL3HvBRf7oJV"
      },
      "execution_count": null,
      "outputs": []
    },
    {
      "cell_type": "code",
      "source": [
        "model = load_model('Efermi_MP_2019')\n",
        "model.compile(loss='mse')"
      ],
      "metadata": {
        "id": "wJSboDMYWlpS"
      },
      "execution_count": null,
      "outputs": []
    },
    {
      "cell_type": "code",
      "source": [
        "structure_for_test = Structure.from_file(\"/content/3DSC/superconductors_3D/data/final/MP/cifs/\" + 'Ag0.55Hg0.45-MP-mp-770433.cif')\n",
        "A = []\n",
        "B = []\n",
        "for i in range(len(structures1)):\n",
        "    if i % 100 == 0:\n",
        "        print(i, len(B) / (i + 1))\n",
        "        \n",
        "    if structures1[i] == 0:\n",
        "        B.append(i)\n",
        "        continue\n",
        "\n",
        "    try:\n",
        "        model.train([structure_for_test, structures1[i]], [1, 1], epochs=1,  verbose = 0);\n",
        "        A.append(i)\n",
        "    except:\n",
        "        B.append(i)\n",
        "\n",
        "B = sorted(B, reverse = True)"
      ],
      "metadata": {
        "id": "nqwORKtL-bf6"
      },
      "execution_count": null,
      "outputs": []
    },
    {
      "cell_type": "code",
      "source": [
        "structures2 = structures1.copy()\n",
        "targets2 = targets1.copy()\n",
        "df2 = df1.copy()\n",
        "df2.drop(labels=B, axis=0, inplace=True)\n",
        "\n",
        "for i in B:\n",
        "    structures2.pop(i)\n",
        "    targets2.pop(i)"
      ],
      "metadata": {
        "id": "zShPku_2_n4a"
      },
      "execution_count": 31,
      "outputs": []
    },
    {
      "cell_type": "code",
      "source": [
        "df2"
      ],
      "metadata": {
        "colab": {
          "base_uri": "https://localhost:8080/",
          "height": 472
        },
        "id": "vK-IfU0uYEPs",
        "outputId": "ed28092c-2b7b-4293-8e3e-7fede88eddf8"
      },
      "execution_count": 50,
      "outputs": [
        {
          "output_type": "execute_result",
          "data": {
            "text/plain": [
              "      MagpieData mean AtomicWeight  MagpieData mean MeltingT  \\\n",
              "8                        77.796450               1382.655000   \n",
              "9                       190.406740               1859.163333   \n",
              "20                       43.163400               1976.976667   \n",
              "21                      112.501400                698.143333   \n",
              "22                      123.386835               1213.965000   \n",
              "...                            ...                       ...   \n",
              "3342                    152.968000               3172.666667   \n",
              "3343                    141.879850               2784.950000   \n",
              "3344                     65.380000                692.680000   \n",
              "3345                     73.994667               1171.120000   \n",
              "3346                     91.224000               2128.000000   \n",
              "\n",
              "      MagpieData mean Electronegativity  MagpieData mean NdValence  \\\n",
              "8                              1.568333                   1.666667   \n",
              "9                              1.555000                   4.666667   \n",
              "20                             2.003333                   3.333333   \n",
              "21                             1.830000                  10.000000   \n",
              "22                             1.515000                   5.500000   \n",
              "...                                 ...                        ...   \n",
              "3342                           2.016667                   3.333333   \n",
              "3343                           2.630000                   3.000000   \n",
              "3344                           1.650000                  10.000000   \n",
              "3345                           1.543333                   7.333333   \n",
              "3346                           1.330000                   2.000000   \n",
              "\n",
              "      MagpieData mean GSvolume_pa  MagpieData mean SpaceGroupNumber  \\\n",
              "8                       34.138333                        227.333333   \n",
              "9                       26.703333                        225.000000   \n",
              "20                      10.225000                        185.666667   \n",
              "21                      21.616667                        167.666667   \n",
              "22                      26.613750                        209.500000   \n",
              "...                           ...                               ...   \n",
              "3342                    18.431667                        217.333333   \n",
              "3343                    14.313750                        174.750000   \n",
              "3344                    13.960000                        194.000000   \n",
              "3345                    17.038333                        194.000000   \n",
              "3346                    23.195000                        194.000000   \n",
              "\n",
              "      MagpieData mean NdUnfilled  \n",
              "8                       0.000000  \n",
              "9                       5.333333  \n",
              "20                      0.000000  \n",
              "21                      0.000000  \n",
              "22                      4.500000  \n",
              "...                          ...  \n",
              "3342                    6.666667  \n",
              "3343                    4.500000  \n",
              "3344                    0.000000  \n",
              "3345                    2.666667  \n",
              "3346                    8.000000  \n",
              "\n",
              "[1140 rows x 7 columns]"
            ],
            "text/html": [
              "\n",
              "  <div id=\"df-df086d06-fad4-487d-9a93-3ac7004c0d2c\">\n",
              "    <div class=\"colab-df-container\">\n",
              "      <div>\n",
              "<style scoped>\n",
              "    .dataframe tbody tr th:only-of-type {\n",
              "        vertical-align: middle;\n",
              "    }\n",
              "\n",
              "    .dataframe tbody tr th {\n",
              "        vertical-align: top;\n",
              "    }\n",
              "\n",
              "    .dataframe thead th {\n",
              "        text-align: right;\n",
              "    }\n",
              "</style>\n",
              "<table border=\"1\" class=\"dataframe\">\n",
              "  <thead>\n",
              "    <tr style=\"text-align: right;\">\n",
              "      <th></th>\n",
              "      <th>MagpieData mean AtomicWeight</th>\n",
              "      <th>MagpieData mean MeltingT</th>\n",
              "      <th>MagpieData mean Electronegativity</th>\n",
              "      <th>MagpieData mean NdValence</th>\n",
              "      <th>MagpieData mean GSvolume_pa</th>\n",
              "      <th>MagpieData mean SpaceGroupNumber</th>\n",
              "      <th>MagpieData mean NdUnfilled</th>\n",
              "    </tr>\n",
              "  </thead>\n",
              "  <tbody>\n",
              "    <tr>\n",
              "      <th>8</th>\n",
              "      <td>77.796450</td>\n",
              "      <td>1382.655000</td>\n",
              "      <td>1.568333</td>\n",
              "      <td>1.666667</td>\n",
              "      <td>34.138333</td>\n",
              "      <td>227.333333</td>\n",
              "      <td>0.000000</td>\n",
              "    </tr>\n",
              "    <tr>\n",
              "      <th>9</th>\n",
              "      <td>190.406740</td>\n",
              "      <td>1859.163333</td>\n",
              "      <td>1.555000</td>\n",
              "      <td>4.666667</td>\n",
              "      <td>26.703333</td>\n",
              "      <td>225.000000</td>\n",
              "      <td>5.333333</td>\n",
              "    </tr>\n",
              "    <tr>\n",
              "      <th>20</th>\n",
              "      <td>43.163400</td>\n",
              "      <td>1976.976667</td>\n",
              "      <td>2.003333</td>\n",
              "      <td>3.333333</td>\n",
              "      <td>10.225000</td>\n",
              "      <td>185.666667</td>\n",
              "      <td>0.000000</td>\n",
              "    </tr>\n",
              "    <tr>\n",
              "      <th>21</th>\n",
              "      <td>112.501400</td>\n",
              "      <td>698.143333</td>\n",
              "      <td>1.830000</td>\n",
              "      <td>10.000000</td>\n",
              "      <td>21.616667</td>\n",
              "      <td>167.666667</td>\n",
              "      <td>0.000000</td>\n",
              "    </tr>\n",
              "    <tr>\n",
              "      <th>22</th>\n",
              "      <td>123.386835</td>\n",
              "      <td>1213.965000</td>\n",
              "      <td>1.515000</td>\n",
              "      <td>5.500000</td>\n",
              "      <td>26.613750</td>\n",
              "      <td>209.500000</td>\n",
              "      <td>4.500000</td>\n",
              "    </tr>\n",
              "    <tr>\n",
              "      <th>...</th>\n",
              "      <td>...</td>\n",
              "      <td>...</td>\n",
              "      <td>...</td>\n",
              "      <td>...</td>\n",
              "      <td>...</td>\n",
              "      <td>...</td>\n",
              "      <td>...</td>\n",
              "    </tr>\n",
              "    <tr>\n",
              "      <th>3342</th>\n",
              "      <td>152.968000</td>\n",
              "      <td>3172.666667</td>\n",
              "      <td>2.016667</td>\n",
              "      <td>3.333333</td>\n",
              "      <td>18.431667</td>\n",
              "      <td>217.333333</td>\n",
              "      <td>6.666667</td>\n",
              "    </tr>\n",
              "    <tr>\n",
              "      <th>3343</th>\n",
              "      <td>141.879850</td>\n",
              "      <td>2784.950000</td>\n",
              "      <td>2.630000</td>\n",
              "      <td>3.000000</td>\n",
              "      <td>14.313750</td>\n",
              "      <td>174.750000</td>\n",
              "      <td>4.500000</td>\n",
              "    </tr>\n",
              "    <tr>\n",
              "      <th>3344</th>\n",
              "      <td>65.380000</td>\n",
              "      <td>692.680000</td>\n",
              "      <td>1.650000</td>\n",
              "      <td>10.000000</td>\n",
              "      <td>13.960000</td>\n",
              "      <td>194.000000</td>\n",
              "      <td>0.000000</td>\n",
              "    </tr>\n",
              "    <tr>\n",
              "      <th>3345</th>\n",
              "      <td>73.994667</td>\n",
              "      <td>1171.120000</td>\n",
              "      <td>1.543333</td>\n",
              "      <td>7.333333</td>\n",
              "      <td>17.038333</td>\n",
              "      <td>194.000000</td>\n",
              "      <td>2.666667</td>\n",
              "    </tr>\n",
              "    <tr>\n",
              "      <th>3346</th>\n",
              "      <td>91.224000</td>\n",
              "      <td>2128.000000</td>\n",
              "      <td>1.330000</td>\n",
              "      <td>2.000000</td>\n",
              "      <td>23.195000</td>\n",
              "      <td>194.000000</td>\n",
              "      <td>8.000000</td>\n",
              "    </tr>\n",
              "  </tbody>\n",
              "</table>\n",
              "<p>1140 rows × 7 columns</p>\n",
              "</div>\n",
              "      <button class=\"colab-df-convert\" onclick=\"convertToInteractive('df-df086d06-fad4-487d-9a93-3ac7004c0d2c')\"\n",
              "              title=\"Convert this dataframe to an interactive table.\"\n",
              "              style=\"display:none;\">\n",
              "        \n",
              "  <svg xmlns=\"http://www.w3.org/2000/svg\" height=\"24px\"viewBox=\"0 0 24 24\"\n",
              "       width=\"24px\">\n",
              "    <path d=\"M0 0h24v24H0V0z\" fill=\"none\"/>\n",
              "    <path d=\"M18.56 5.44l.94 2.06.94-2.06 2.06-.94-2.06-.94-.94-2.06-.94 2.06-2.06.94zm-11 1L8.5 8.5l.94-2.06 2.06-.94-2.06-.94L8.5 2.5l-.94 2.06-2.06.94zm10 10l.94 2.06.94-2.06 2.06-.94-2.06-.94-.94-2.06-.94 2.06-2.06.94z\"/><path d=\"M17.41 7.96l-1.37-1.37c-.4-.4-.92-.59-1.43-.59-.52 0-1.04.2-1.43.59L10.3 9.45l-7.72 7.72c-.78.78-.78 2.05 0 2.83L4 21.41c.39.39.9.59 1.41.59.51 0 1.02-.2 1.41-.59l7.78-7.78 2.81-2.81c.8-.78.8-2.07 0-2.86zM5.41 20L4 18.59l7.72-7.72 1.47 1.35L5.41 20z\"/>\n",
              "  </svg>\n",
              "      </button>\n",
              "      \n",
              "  <style>\n",
              "    .colab-df-container {\n",
              "      display:flex;\n",
              "      flex-wrap:wrap;\n",
              "      gap: 12px;\n",
              "    }\n",
              "\n",
              "    .colab-df-convert {\n",
              "      background-color: #E8F0FE;\n",
              "      border: none;\n",
              "      border-radius: 50%;\n",
              "      cursor: pointer;\n",
              "      display: none;\n",
              "      fill: #1967D2;\n",
              "      height: 32px;\n",
              "      padding: 0 0 0 0;\n",
              "      width: 32px;\n",
              "    }\n",
              "\n",
              "    .colab-df-convert:hover {\n",
              "      background-color: #E2EBFA;\n",
              "      box-shadow: 0px 1px 2px rgba(60, 64, 67, 0.3), 0px 1px 3px 1px rgba(60, 64, 67, 0.15);\n",
              "      fill: #174EA6;\n",
              "    }\n",
              "\n",
              "    [theme=dark] .colab-df-convert {\n",
              "      background-color: #3B4455;\n",
              "      fill: #D2E3FC;\n",
              "    }\n",
              "\n",
              "    [theme=dark] .colab-df-convert:hover {\n",
              "      background-color: #434B5C;\n",
              "      box-shadow: 0px 1px 3px 1px rgba(0, 0, 0, 0.15);\n",
              "      filter: drop-shadow(0px 1px 2px rgba(0, 0, 0, 0.3));\n",
              "      fill: #FFFFFF;\n",
              "    }\n",
              "  </style>\n",
              "\n",
              "      <script>\n",
              "        const buttonEl =\n",
              "          document.querySelector('#df-df086d06-fad4-487d-9a93-3ac7004c0d2c button.colab-df-convert');\n",
              "        buttonEl.style.display =\n",
              "          google.colab.kernel.accessAllowed ? 'block' : 'none';\n",
              "\n",
              "        async function convertToInteractive(key) {\n",
              "          const element = document.querySelector('#df-df086d06-fad4-487d-9a93-3ac7004c0d2c');\n",
              "          const dataTable =\n",
              "            await google.colab.kernel.invokeFunction('convertToInteractive',\n",
              "                                                     [key], {});\n",
              "          if (!dataTable) return;\n",
              "\n",
              "          const docLinkHtml = 'Like what you see? Visit the ' +\n",
              "            '<a target=\"_blank\" href=https://colab.research.google.com/notebooks/data_table.ipynb>data table notebook</a>'\n",
              "            + ' to learn more about interactive tables.';\n",
              "          element.innerHTML = '';\n",
              "          dataTable['output_type'] = 'display_data';\n",
              "          await google.colab.output.renderOutput(dataTable, element);\n",
              "          const docLink = document.createElement('div');\n",
              "          docLink.innerHTML = docLinkHtml;\n",
              "          element.appendChild(docLink);\n",
              "        }\n",
              "      </script>\n",
              "    </div>\n",
              "  </div>\n",
              "  "
            ]
          },
          "metadata": {},
          "execution_count": 50
        }
      ]
    },
    {
      "cell_type": "code",
      "source": [
        "len(A)"
      ],
      "metadata": {
        "colab": {
          "base_uri": "https://localhost:8080/"
        },
        "id": "zyVcQSOQ97Qs",
        "outputId": "4e196143-8d56-424b-b0cc-6dc0033346c6"
      },
      "execution_count": 32,
      "outputs": [
        {
          "output_type": "execute_result",
          "data": {
            "text/plain": [
              "1140"
            ]
          },
          "metadata": {},
          "execution_count": 32
        }
      ]
    },
    {
      "cell_type": "code",
      "source": [
        "X_train, y_train = structures2[:50], targets2[:50]\n",
        "losses = [0] * len(AVAILABLE_MODELS)\n",
        "for i, model_name in enumerate(AVAILABLE_MODELS):\n",
        "    model = load_model(model_name)\n",
        "    model.compile(loss='mse')\n",
        "    history = model.train(X_train, y_train, epochs = 5, batch_size = 10, verbose = 0, save_checkpoint = True)\n",
        "    losses[i] = history.history.history['loss'][-1]\n",
        "    print(model_name, history.history.history['loss'])\n",
        "    print()"
      ],
      "metadata": {
        "id": "dLUGof6o7qXO",
        "colab": {
          "base_uri": "https://localhost:8080/"
        },
        "outputId": "0fe9cced-15fe-47a1-e706-4c3c9ed0a26b"
      },
      "execution_count": 33,
      "outputs": [
        {
          "output_type": "stream",
          "name": "stderr",
          "text": [
            "/usr/local/lib/python3.9/dist-packages/keras/initializers/initializers.py:120: UserWarning: The initializer VarianceScaling is unseeded and being called multiple times, which will return identical values each time (even if the initializer is unseeded). Please update your code to provide a seed to the initializer, or avoid using the same initalizer instance more than once.\n",
            "  warnings.warn(\n"
          ]
        },
        {
          "output_type": "stream",
          "name": "stdout",
          "text": [
            "Eform_MP_2019 [2.175044536590576, 1.0680592060089111, 0.6472693085670471, 0.4830528199672699, 0.34739407896995544]\n",
            "\n",
            "Eform_MP_2018 [2.463895320892334, 1.1332095861434937, 0.5803142786026001, 0.34225302934646606, 0.22371847927570343]\n",
            "\n",
            "Efermi_MP_2019 [2.026341199874878, 0.46811938285827637, 0.21536996960639954, 0.13981010019779205, 0.08179308474063873]\n",
            "\n",
            "Bandgap_classifier_MP_2018 [1.961220383644104, 1.2967798709869385, 1.1514298915863037, 1.065051794052124, 0.9801561236381531]\n",
            "\n",
            "Bandgap_MP_2018 [1.8140857219696045, 0.9265910983085632, 0.5761750936508179, 0.44422292709350586, 0.3759779930114746]\n",
            "\n",
            "logK_MP_2018 [2.830679416656494, 2.23701810836792, 2.146714687347412, 2.0507378578186035, 1.825238823890686]\n",
            "\n",
            "logG_MP_2018 [2.5074801445007324, 1.9504330158233643, 1.6268717050552368, 1.4473614692687988, 1.340053677558899]\n",
            "\n",
            "logK_MP_2019 [6.992964267730713, 6.359163284301758, 5.939637660980225, 5.520193099975586, 5.4051127433776855]\n",
            "\n",
            "logG_MP_2019 [7.755278587341309, 7.1097235679626465, 6.744479179382324, 6.449820041656494, 6.230450630187988]\n",
            "\n"
          ]
        }
      ]
    },
    {
      "cell_type": "code",
      "source": [
        "X_train, y_train = structures2[:800], targets2[:800] \n",
        "X_validation, y_validation = structures2[800:1000], targets2[800:1000]\n",
        "history = model.train(train_structures=X_train, train_targets=y_train, validation_structures=X_validation, \n",
        "                      validation_targets=y_validation, epochs = 100, batch_size = 10, verbose = 1)\n",
        "history.history.history['loss']"
      ],
      "metadata": {
        "id": "z5HI-vHMKcqg"
      },
      "execution_count": null,
      "outputs": []
    },
    {
      "cell_type": "code",
      "source": [
        "epochs = 1000\n",
        "train_loss = [0] * epochs\n",
        "validation_loss = [0] * epochs\n",
        "X_train, y_train = structures2[:1000], targets2[:1000]\n",
        "X_validation, y_validation = structures2[1000:], targets2[1000:]\n",
        "model = load_model('Bandgap_MP_2018')\n",
        "model.compile(loss='mse')\n",
        "t = model.copy()\n",
        "history = model.train(train_structures=X_train[:10], train_targets=y_train[:10], epochs = 1, batch_size = 1, verbose = 0)\n",
        "b = model.get_weights()"
      ],
      "metadata": {
        "id": "XNIjMAck2_AR"
      },
      "execution_count": 79,
      "outputs": []
    },
    {
      "cell_type": "code",
      "source": [
        "for epoch in range(epochs):\n",
        "    print(\"epoch =\", epoch + 1)\n",
        "    print('train')\n",
        "    if epoch != 0: model.set_weights(weights)\n",
        "    history = model.train(train_structures=X_train, train_targets=y_train, epochs = 1, batch_size = 100, verbose = 1)\n",
        "    train_loss[epoch] = history.history.history['loss'][-1]\n",
        "\n",
        "    print()\n",
        "    print('validation')\n",
        "    weights = model.get_weights()\n",
        "    weights_massive.append(weights)\n",
        "    history = model.train(train_structures=X_validation, train_targets=y_validation, epochs = 1, batch_size = 100, verbose = 1)\n",
        "    validation_loss[epoch] = history.history.history['loss'][-1]\n",
        "    print(\"\\n\\n\")"
      ],
      "metadata": {
        "id": "HiqKqxhDcw44"
      },
      "execution_count": null,
      "outputs": []
    },
    {
      "cell_type": "code",
      "source": [
        "import keras\n",
        "class LossHistory(keras.callbacks.Callback):\n",
        "    def on_train_begin(self, logs={}):\n",
        "        self.history = {'loss':[],'val_loss':[]}\n",
        "\n",
        "    def on_batch_end(self, batch, logs={}):\n",
        "        self.history['loss'].append(logs.get('loss'))\n",
        "\n",
        "    def on_epoch_end(self, epoch, logs={}):\n",
        "        self.history['val_loss'].append(logs.get('val_loss'))\n",
        "\n",
        "history = LossHistory()\n",
        "\n",
        "X_train, y_train = structures2[:10], targets2[:10]\n",
        "X_validation, y_validation = structures2[10:12], targets2[10:12]\n",
        "model = load_model('Bandgap_MP_2018')\n",
        "model.compile(loss='mse', metrics=['val_loss'])\n",
        "model.train(train_structures = X_train, train_targets = y_train, \n",
        "                      validation_structures = X_validation, validation_targets = y_validation, epochs = 1, batch_size = 1, verbose = 1, validation_freq=1, callbacks=[history])"
      ],
      "metadata": {
        "id": "Ar_6nX1JGiO1"
      },
      "execution_count": null,
      "outputs": []
    },
    {
      "cell_type": "code",
      "source": [
        "history.val_losses"
      ],
      "metadata": {
        "colab": {
          "base_uri": "https://localhost:8080/"
        },
        "id": "XBb80UQ1MBBR",
        "outputId": "54dfed75-94a7-4b31-92e6-6fedb863b38a"
      },
      "execution_count": 133,
      "outputs": [
        {
          "output_type": "execute_result",
          "data": {
            "text/plain": [
              "[None, None, None, None, None, None, None, None, None, None]"
            ]
          },
          "metadata": {},
          "execution_count": 133
        }
      ]
    },
    {
      "cell_type": "code",
      "source": [
        "fig, ax = plt.subplots()\n",
        "ax.grid()\n",
        "plt.grid()\n",
        "plt.plot(np.arange(epochs), train_loss, color = 'blue', label = \"Train_loss\")\n",
        "plt.plot(np.arange(epochs), validation_loss, color = 'orange', label = \"Validation_loss\")\n",
        "plt.xlabel('epochs')\n",
        "plt.ylabel('loss')\n",
        "plt.title(\"Learning curve\")\n",
        "#plt.ylim((0, 4))\n",
        "plt.legend()\n",
        "plt.show()"
      ],
      "metadata": {
        "id": "xzYBVsv7eugb",
        "colab": {
          "base_uri": "https://localhost:8080/",
          "height": 471
        },
        "outputId": "a2ebb0f0-e3a4-4d60-a6b2-697f0e1b1423"
      },
      "execution_count": 52,
      "outputs": [
        {
          "output_type": "display_data",
          "data": {
            "text/plain": [
              "<Figure size 640x480 with 1 Axes>"
            ],
            "image/png": "[encoded data removed]"
          },
          "metadata": {}
        }
      ]
    },
    {
      "cell_type": "code",
      "source": [
        "X_train, y_train = structures2[:1000], targets2[:1000]\n",
        "X_test, y_test = structures2[1000:], targets2[1000:]\n",
        "model = load_model('Efermi_MP_2019')\n",
        "model.compile(loss='mse')\n",
        "history = model.train(train_structures=X_train, train_targets=y_train, epochs = 500, batch_size = 10, verbose = 1)\n",
        "history.history.history['loss']"
      ],
      "metadata": {
        "id": "x5Wbqwb_N-O8"
      },
      "execution_count": null,
      "outputs": []
    },
    {
      "cell_type": "code",
      "source": [
        "predictions_g1 = np.zeros(len(X_train))\n",
        "for i in range(len(X_train)):\n",
        "    print(i)\n",
        "    predictions_g1[i] = model.predict_structure(X_train[i]).ravel()"
      ],
      "metadata": {
        "id": "MltMmS7f_iIM"
      },
      "execution_count": null,
      "outputs": []
    },
    {
      "cell_type": "code",
      "source": [
        "predictions_g = np.zeros(len(X_test))\n",
        "for i in range(len(X_test)):\n",
        "    print(i)\n",
        "    predictions_g[i] = model.predict_structure(X_test[i]).ravel()"
      ],
      "metadata": {
        "id": "nffkWbLjHp18"
      },
      "execution_count": null,
      "outputs": []
    },
    {
      "cell_type": "code",
      "source": [
        "train_loss = ((predictions_g1 - y_train) ** 2).sum()\n",
        "test_loss = ((predictions_g - y_test) ** 2).sum()\n",
        "print(train_loss)\n",
        "print(test_loss)"
      ],
      "metadata": {
        "colab": {
          "base_uri": "https://localhost:8080/"
        },
        "id": "urlyRRP8YWwG",
        "outputId": "06f4063a-7fb3-48ea-f047-cff8ba9aa517"
      },
      "execution_count": 54,
      "outputs": [
        {
          "output_type": "stream",
          "name": "stdout",
          "text": [
            "2248171.900533854\n",
            "32820.24547467067\n"
          ]
        }
      ]
    },
    {
      "cell_type": "code",
      "source": [
        "fig, ax = plt.subplots()\n",
        "ax.grid()\n",
        "\n",
        "\n",
        "plt.scatter(y_train, predictions_g1, color = 'blue', alpha = 0.1)\n",
        "plt.plot(y_train, y_train, color = 'black', linewidth = 3, alpha = 0.1)\n",
        "ax.set_xlabel('measured $ln T_c$')\n",
        "ax.set_ylabel('predicted $ln T_c$')\n",
        "plt.title(\"На тренировочной выборке\")\n",
        "#plt.ylim((0, 4))\n",
        "plt.show()\n",
        "\n",
        "plt.grid()\n",
        "plt.scatter(y_test, predictions_g, color = 'red', alpha = 0.1)\n",
        "plt.plot(y_test, y_test, color = 'black', linewidth = 3, alpha = 0.1)\n",
        "plt.xlabel('measured $ln T_c$')\n",
        "plt.ylabel('predicted $ln T_c$')\n",
        "plt.title(\"На тестовой выборке\")\n",
        "#plt.ylim((0, 4))\n",
        "plt.show()"
      ],
      "metadata": {
        "colab": {
          "base_uri": "https://localhost:8080/",
          "height": 931
        },
        "id": "ZbGq2aUALoEO",
        "outputId": "dfee8115-007c-4ef4-f75e-bc43ba2b3708"
      },
      "execution_count": 43,
      "outputs": [
        {
          "output_type": "display_data",
          "data": {
            "text/plain": [
              "<Figure size 640x480 with 1 Axes>"
            ],
            "image/png": "[encoded data removed]"
          },
          "metadata": {}
        },
        {
          "output_type": "display_data",
          "data": {
            "text/plain": [
              "<Figure size 640x480 with 1 Axes>"
            ],
            "image/png": "[encoded data removed]"
          },
          "metadata": {}
        }
      ]
    },
    {
      "cell_type": "code",
      "source": [
        "X_train, y_train = df2[:1000], targets2[:1000]\n",
        "X_test, y_test = df2[1000:], targets2[1000:]\n",
        "\n",
        "param_grid = { \n",
        "            \"n_estimators\"      : [30, 100, 300],\n",
        "            \"max_features\"      : [\"auto\", \"sqrt\", \"log2\"],\n",
        "            \"min_samples_split\" : [2,4,8],\n",
        "            \"bootstrap\": [True, False],\n",
        "            }\n",
        "rfr = RandomForestRegressor()\n",
        "CV_rfr = GridSearchCV(estimator = rfr, param_grid = param_grid, cv = 5)\n",
        "CV_rfr.fit(X_train, y_train)"
      ],
      "metadata": {
        "id": "1ud8aHZWYQYj"
      },
      "execution_count": null,
      "outputs": []
    },
    {
      "cell_type": "code",
      "source": [
        "CV_rfr.best_params_"
      ],
      "metadata": {
        "colab": {
          "base_uri": "https://localhost:8080/"
        },
        "id": "MH3p5v1uY7Uo",
        "outputId": "15f83d93-6fdc-4231-c132-c868570d3a03"
      },
      "execution_count": 58,
      "outputs": [
        {
          "output_type": "execute_result",
          "data": {
            "text/plain": [
              "{'bootstrap': True,\n",
              " 'max_features': 'sqrt',\n",
              " 'min_samples_split': 4,\n",
              " 'n_estimators': 300}"
            ]
          },
          "metadata": {},
          "execution_count": 58
        }
      ]
    },
    {
      "cell_type": "code",
      "source": [
        "rfr1 = RandomForestRegressor(max_features = 'sqrt', min_samples_split = 4, bootstrap = True, n_estimators = 100)\n",
        "rfr1.fit(X_train, y_train)\n",
        "predictions = rfr1.predict(X_test)\n",
        "predictions1 = rfr1.predict(X_train)"
      ],
      "metadata": {
        "colab": {
          "base_uri": "https://localhost:8080/"
        },
        "id": "3MhE1gtvY9q6",
        "outputId": "07dda83f-afb8-4dc3-a728-bb80b4e285a5"
      },
      "execution_count": 59,
      "outputs": [
        {
          "output_type": "stream",
          "name": "stderr",
          "text": [
            "<ipython-input-59-99f208eecd92>:2: DataConversionWarning: A column-vector y was passed when a 1d array was expected. Please change the shape of y to (n_samples,), for example using ravel().\n",
            "  rfr1.fit(X_train, y_train)\n"
          ]
        }
      ]
    },
    {
      "cell_type": "code",
      "source": [
        "train_loss = ((predictions1 - y_train) ** 2).sum()\n",
        "test_loss = ((predictions - y_test) ** 2).sum()\n",
        "print(train_loss)\n",
        "print(test_loss)"
      ],
      "metadata": {
        "colab": {
          "base_uri": "https://localhost:8080/"
        },
        "id": "i0bDwgbPY-Qo",
        "outputId": "71af1d14-c2a1-477a-d6aa-a39b953f0fbe"
      },
      "execution_count": 60,
      "outputs": [
        {
          "output_type": "stream",
          "name": "stdout",
          "text": [
            "1545683.924147896\n",
            "24526.622424673278\n"
          ]
        }
      ]
    },
    {
      "cell_type": "code",
      "source": [
        "fig, ax = plt.subplots()\n",
        "ax.grid()\n",
        "\n",
        "\n",
        "plt.scatter(y_train, predictions1, color = 'blue', alpha = 0.1)\n",
        "plt.plot(y_train, y_train, color = 'black', linewidth = 3, alpha = 0.1)\n",
        "ax.set_xlabel('measured $ln T_c$')\n",
        "ax.set_ylabel('predicted $ln T_c$')\n",
        "plt.title(\"На тренировочной выборке\")\n",
        "#plt.ylim((0, 4))\n",
        "plt.show()\n",
        "\n",
        "plt.grid()\n",
        "plt.scatter(y_test, predictions, color = 'red', alpha = 0.1)\n",
        "plt.plot(y_test, y_test, color = 'black', linewidth = 3, alpha = 0.1)\n",
        "plt.xlabel('measured $ln T_c$')\n",
        "plt.ylabel('predicted $ln T_c$')\n",
        "plt.title(\"На тестовой выборке\")\n",
        "#plt.ylim((0, 4))\n",
        "plt.show()"
      ],
      "metadata": {
        "colab": {
          "base_uri": "https://localhost:8080/",
          "height": 931
        },
        "id": "L0r-WPuza61T",
        "outputId": "94243051-2f84-4257-a450-2f444944eb95"
      },
      "execution_count": 61,
      "outputs": [
        {
          "output_type": "display_data",
          "data": {
            "text/plain": [
              "<Figure size 640x480 with 1 Axes>"
            ],
            "image/png": "[encoded data removed]"
          },
          "metadata": {}
        },
        {
          "output_type": "display_data",
          "data": {
            "text/plain": [
              "<Figure size 640x480 with 1 Axes>"
            ],
            "image/png": "[encoded data removed]"
          },
          "metadata": {}
        }
      ]
    }
  ]
}