{
  "nbformat": 4,
  "nbformat_minor": 0,
  "metadata": {
    "colab": {
      "provenance": []
    },
    "kernelspec": {
      "name": "python3",
      "display_name": "Python 3"
    },
    "language_info": {
      "name": "python"
    }
  },
  "cells": [
    {
      "cell_type": "code",
      "execution_count": 115,
      "metadata": {
        "id": "brxqXbwwINBJ"
      },
      "outputs": [],
      "source": [
        "import numpy as np\n",
        "import pandas as pd\n",
        "import matplotlib.pyplot as plt\n",
        "from sklearn import datasets\n",
        "from sklearn.linear_model import LinearRegression\n",
        "from sklearn.metrics import mean_squared_error, r2_score"
      ]
    },
    {
      "cell_type": "code",
      "source": [
        "data = pd.read_csv('3DSC_MP.csv', header=1)\n",
        "# рассматриваю только количественные признаки\n",
        "data1 = data.loc[data['tc'] < 10.0]\n",
        "data2 = data1[['formula_similarity', 'formula_frac', 'num_elements_sc', 'lata_2', 'latb_2', 'latc_2', 'band_gap_2', 'density_2',\n",
        "               'e_above_hull_2', 'efermi_2', 'encut_2', 'final_energy_2', 'final_energy_per_atom_2', 'formation_energy_per_atom_2',\n",
        "               'monoclinic', 'orthorhombic', 'tetragonal', 'triclinic',\t'trigonal', 'primitive', 'base-centered', 'body-centered', 'face-centered', 'weight']]\n",
        "\n",
        "# разбиваю датасет на обучающую и тестовую выборку\n",
        "x_train = data2.iloc[:4000]\n",
        "x_test = data2.iloc[4000:]\n",
        "\n",
        "y_train = data1.iloc[:4000,7]\n",
        "y_test = data1.iloc[4000:, 7]"
      ],
      "metadata": {
        "id": "_pGeC0hhJ7dp"
      },
      "execution_count": 116,
      "outputs": []
    },
    {
      "cell_type": "code",
      "source": [
        "# обучаю модель\n",
        "lr = LinearRegression()\n",
        "lr.fit(x_train, y_train)\n",
        "predictions = lr.predict(x_test)"
      ],
      "metadata": {
        "id": "8mGBWLRrnWZh"
      },
      "execution_count": 117,
      "outputs": []
    },
    {
      "cell_type": "code",
      "source": [
        "# вычисляю ошибку\n",
        "print(\"Mean squared error: %.2f\" % mean_squared_error(y_test, predictions))\n",
        "print('Variance score: %.2f' % r2_score(y_test, predictions))"
      ],
      "metadata": {
        "colab": {
          "base_uri": "https://localhost:8080/"
        },
        "id": "j5gbU2BYnv2j",
        "outputId": "1ac7fca2-09e5-4a42-bf42-9be363fc84dd"
      },
      "execution_count": 124,
      "outputs": [
        {
          "output_type": "stream",
          "name": "stdout",
          "text": [
            "Mean squared error: 5.59\n",
            "Variance score: 0.11\n"
          ]
        }
      ]
    },
    {
      "cell_type": "code",
      "source": [
        "# строю график\n",
        "fig, ax = plt.subplots()\n",
        "plt.scatter(y_test, predictions, color='black')\n",
        "plt.plot(y_test, y_test, color='blue', linewidth = 3)\n",
        "\n",
        "ax.grid()\n",
        "\n",
        "ax.set_xlabel('measured $T_c$')\n",
        "ax.set_ylabel('predicted $T_c$')\n",
        "\n",
        "plt.ylim((0, 5))\n",
        "plt.show()"
      ],
      "metadata": {
        "colab": {
          "base_uri": "https://localhost:8080/",
          "height": 307
        },
        "id": "FQdLRMXcs5bf",
        "outputId": "94e47d91-1047-4eb7-94ec-43bfb0d98f46"
      },
      "execution_count": 123,
      "outputs": [
        {
          "output_type": "display_data",
          "data": {
            "text/plain": [
              "<Figure size 432x288 with 1 Axes>"
            ],
            "image/png": "[encoded data removed]"
          },
          "metadata": {
            "needs_background": "light"
          }
        }
      ]
    }
  ]
}